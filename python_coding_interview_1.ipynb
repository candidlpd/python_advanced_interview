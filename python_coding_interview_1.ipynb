{
 "cells": [
  {
   "cell_type": "code",
   "execution_count": null,
   "id": "bc679a5e",
   "metadata": {},
   "outputs": [],
   "source": [
    "import os\n",
    "os.getcwd()"
   ]
  },
  {
   "cell_type": "code",
   "execution_count": null,
   "id": "0be6a697",
   "metadata": {},
   "outputs": [],
   "source": [
    "arr2 =[[1,2,3],\n",
    "      [4,5,6],\n",
    "      [7,8,9]]\n"
   ]
  },
  {
   "cell_type": "code",
   "execution_count": null,
   "id": "53c9454f",
   "metadata": {},
   "outputs": [],
   "source": [
    "arr2[0]"
   ]
  },
  {
   "cell_type": "code",
   "execution_count": null,
   "id": "e4b541d6",
   "metadata": {},
   "outputs": [],
   "source": [
    "arr2[1]\n"
   ]
  },
  {
   "cell_type": "code",
   "execution_count": null,
   "id": "7947349e",
   "metadata": {},
   "outputs": [],
   "source": [
    "arr2[2]"
   ]
  },
  {
   "cell_type": "code",
   "execution_count": null,
   "id": "f15932ba",
   "metadata": {},
   "outputs": [],
   "source": [
    "arr2[:2,1:]"
   ]
  },
  {
   "cell_type": "code",
   "execution_count": null,
   "id": "876dbcf2",
   "metadata": {},
   "outputs": [],
   "source": [
    "arr2"
   ]
  },
  {
   "cell_type": "code",
   "execution_count": null,
   "id": "4b8957db",
   "metadata": {},
   "outputs": [],
   "source": [
    "arr2.T[2]"
   ]
  },
  {
   "cell_type": "code",
   "execution_count": null,
   "id": "9688503b",
   "metadata": {},
   "outputs": [],
   "source": [
    "arrs[:,2]"
   ]
  },
  {
   "cell_type": "code",
   "execution_count": null,
   "id": "6236f30a",
   "metadata": {},
   "outputs": [],
   "source": [
    "arr2[:,2]"
   ]
  },
  {
   "cell_type": "code",
   "execution_count": null,
   "id": "cc7e8f97",
   "metadata": {},
   "outputs": [],
   "source": [
    "import numpy as np"
   ]
  },
  {
   "cell_type": "code",
   "execution_count": null,
   "id": "8441d0ee",
   "metadata": {},
   "outputs": [],
   "source": [
    "arr2=np.zeros((10,10))\n",
    "arr2"
   ]
  },
  {
   "cell_type": "code",
   "execution_count": null,
   "id": "d4f4904f",
   "metadata": {},
   "outputs": [],
   "source": [
    "arr2 = np.array([[1,2,3],\n",
    "                [4,5,6],\n",
    "                [7,8,9]])"
   ]
  },
  {
   "cell_type": "code",
   "execution_count": null,
   "id": "9ebb0373",
   "metadata": {},
   "outputs": [],
   "source": [
    "arr2"
   ]
  },
  {
   "cell_type": "code",
   "execution_count": null,
   "id": "51a7c145",
   "metadata": {},
   "outputs": [],
   "source": [
    "arr2[1]"
   ]
  },
  {
   "cell_type": "code",
   "execution_count": null,
   "id": "df9fd089",
   "metadata": {},
   "outputs": [],
   "source": [
    "arr2[2,:]"
   ]
  },
  {
   "cell_type": "code",
   "execution_count": null,
   "id": "60d0f9b7",
   "metadata": {},
   "outputs": [],
   "source": [
    "\n",
    "for i in range(len(arr2)):\n",
    "    if i%2 == 0: \n",
    "        print(arr2[i])\n",
    "    \n",
    "    \n"
   ]
  },
  {
   "cell_type": "code",
   "execution_count": null,
   "id": "0c5b30f0",
   "metadata": {},
   "outputs": [],
   "source": [
    "len(arr2)"
   ]
  },
  {
   "cell_type": "code",
   "execution_count": null,
   "id": "3ee879d1",
   "metadata": {},
   "outputs": [],
   "source": [
    "arr2[[0,2,4,6,8]]"
   ]
  },
  {
   "cell_type": "code",
   "execution_count": null,
   "id": "23a0ffed",
   "metadata": {},
   "outputs": [],
   "source": [
    "arr2[range(0,10,2)]"
   ]
  },
  {
   "cell_type": "code",
   "execution_count": null,
   "id": "a4f05f2c",
   "metadata": {},
   "outputs": [],
   "source": [
    "arr2[range(0,len(arr2),2)]"
   ]
  },
  {
   "cell_type": "code",
   "execution_count": null,
   "id": "4fea11ec",
   "metadata": {},
   "outputs": [],
   "source": [
    "[ele for sub in arr2 for row in sub for ele in row]"
   ]
  },
  {
   "cell_type": "code",
   "execution_count": null,
   "id": "32b5c374",
   "metadata": {},
   "outputs": [],
   "source": [
    "arr = arr2[arr2%2==0]\n",
    "arr"
   ]
  },
  {
   "cell_type": "code",
   "execution_count": null,
   "id": "bda78de9",
   "metadata": {},
   "outputs": [],
   "source": [
    "arr = arr2[arr2 >= 5]\n",
    "arr"
   ]
  },
  {
   "cell_type": "code",
   "execution_count": null,
   "id": "296d8128",
   "metadata": {},
   "outputs": [],
   "source": [
    "arr = arr2[arr2 % 2 != 0]\n",
    "arr"
   ]
  },
  {
   "cell_type": "code",
   "execution_count": null,
   "id": "f261d134",
   "metadata": {},
   "outputs": [],
   "source": [
    "matrix = []\n",
    "for i in range(5):\n",
    "    matrix.append([])\n",
    "    for j in range(5):\n",
    "        matrix[i].append(j)\n",
    "print(matrix)"
   ]
  },
  {
   "cell_type": "code",
   "execution_count": null,
   "id": "1d92e15d",
   "metadata": {},
   "outputs": [],
   "source": [
    "\n",
    "\n",
    "matrix = [[1, 2, 3], [4, 5, 6], [7, 8, 9]]\n"
   ]
  },
  {
   "cell_type": "code",
   "execution_count": null,
   "id": "bc47ecdf",
   "metadata": {},
   "outputs": [],
   "source": [
    "even=[]\n",
    "for row in matrix:\n",
    "    for ele in row:\n",
    "        if ele%2==0:\n",
    "            even.append(ele)\n",
    "print(even)"
   ]
  },
  {
   "cell_type": "code",
   "execution_count": null,
   "id": "70089757",
   "metadata": {},
   "outputs": [],
   "source": [
    "matrix1 = np.array([[1, 2, 3], [4, 5, 6], [7, 8, 9]])"
   ]
  },
  {
   "cell_type": "code",
   "execution_count": null,
   "id": "94bbbf8b",
   "metadata": {},
   "outputs": [],
   "source": [
    "matrix1[matrix1 % 2 == 0]"
   ]
  },
  {
   "cell_type": "code",
   "execution_count": null,
   "id": "bbad134c",
   "metadata": {},
   "outputs": [],
   "source": [
    "odd =[ele for row in matrix for ele in row if ele%2 != 0]\n",
    "odd"
   ]
  },
  {
   "cell_type": "code",
   "execution_count": null,
   "id": "7564ad2c",
   "metadata": {},
   "outputs": [],
   "source": [
    "flatten =[]\n",
    "for sub in matrix:\n",
    "    for ele in sub:\n",
    "        flatten.append(ele)\n",
    "print(flatten)"
   ]
  },
  {
   "cell_type": "code",
   "execution_count": null,
   "id": "c54f9cf8",
   "metadata": {},
   "outputs": [],
   "source": [
    "test_list = [[5, 6], 6, [7], 8, 10]\n",
    "\n",
    "res = any(isinstance(sub, list) for sub in test_list)\n",
    "res"
   ]
  },
  {
   "cell_type": "code",
   "execution_count": null,
   "id": "2fb40a6a",
   "metadata": {},
   "outputs": [],
   "source": [
    "any(isinstance(ele, int) for submatrix in matrix for row in submatrix for ele in row)\n",
    "\n",
    "if isinstance(list1,list)\"\n",
    "te,\""
   ]
  },
  {
   "cell_type": "code",
   "execution_count": null,
   "id": "95edf9eb",
   "metadata": {},
   "outputs": [],
   "source": [
    "from functools import reduce\n",
    "matrix2 = [[1, 2, 3], [4, 5, 6], [7, 8, 9]]\n",
    "\n",
    "res = reduce(lambda x,y: x+y, matrix2)\n",
    "res\n",
    "\n"
   ]
  },
  {
   "cell_type": "code",
   "execution_count": null,
   "id": "57042e64",
   "metadata": {},
   "outputs": [],
   "source": [
    "str1 = \"adbdf343klj#df03 sdlfjsdk3k3 sjfksdj34\"\n",
    "digits=[]\n",
    "alpha =[]\n",
    "space =[]\n",
    "special = []\n",
    "count = 0\n",
    "for ch in str1:\n",
    "    if ch.isdigit():\n",
    "        digits.append(ch)\n",
    "        len(digits)\n",
    "        print(digits)\n",
    "   \n",
    "print(digits)\n",
    "print(alpha)\n",
    "print(space)"
   ]
  },
  {
   "cell_type": "code",
   "execution_count": null,
   "id": "b34585ae",
   "metadata": {},
   "outputs": [],
   "source": [
    "num =342340\n",
    "count = 0\n",
    "while num>0:\n",
    "    rem = num % 10\n",
    "    count += 1\n",
    "print(count)\n",
    "    "
   ]
  },
  {
   "cell_type": "code",
   "execution_count": null,
   "id": "7ebfc972",
   "metadata": {},
   "outputs": [],
   "source": [
    "num ='342340'\n",
    "len(num)"
   ]
  },
  {
   "cell_type": "code",
   "execution_count": null,
   "id": "02454625",
   "metadata": {},
   "outputs": [],
   "source": [
    "import os\n",
    "os.getcwd()"
   ]
  },
  {
   "cell_type": "code",
   "execution_count": null,
   "id": "e720f6ce",
   "metadata": {},
   "outputs": [],
   "source": [
    "num =342340\n",
    "count = 0\n",
    "while num ! = 0:\n",
    "    num //= 10\n",
    "    count += 1\n",
    "print(count)"
   ]
  },
  {
   "cell_type": "code",
   "execution_count": null,
   "id": "7a2e2fe5",
   "metadata": {},
   "outputs": [],
   "source": [
    "from pathlib import Path\n",
    "\n"
   ]
  },
  {
   "cell_type": "code",
   "execution_count": null,
   "id": "293715df",
   "metadata": {},
   "outputs": [],
   "source": [
    "os.getcwd()\n"
   ]
  },
  {
   "cell_type": "code",
   "execution_count": null,
   "id": "bd62754b",
   "metadata": {},
   "outputs": [],
   "source": [
    "import os\n",
    "import subprocess\n",
    "os.listdir(\"H:/adf/sales.txt\")"
   ]
  },
  {
   "cell_type": "code",
   "execution_count": null,
   "id": "88728a9a",
   "metadata": {},
   "outputs": [],
   "source": [
    "subprocess.run(\"pwd\")"
   ]
  },
  {
   "cell_type": "code",
   "execution_count": null,
   "id": "ff9be2b6",
   "metadata": {},
   "outputs": [],
   "source": [
    "subprocess.run(['ls'])"
   ]
  },
  {
   "cell_type": "code",
   "execution_count": null,
   "id": "c4b62cf0",
   "metadata": {},
   "outputs": [],
   "source": [
    "!pwd\n"
   ]
  },
  {
   "cell_type": "code",
   "execution_count": null,
   "id": "d4d74055",
   "metadata": {},
   "outputs": [],
   "source": [
    "!ls /H:/adf"
   ]
  },
  {
   "cell_type": "code",
   "execution_count": null,
   "id": "0b49b49c",
   "metadata": {},
   "outputs": [],
   "source": [
    "!dir H:\\adf"
   ]
  },
  {
   "cell_type": "code",
   "execution_count": null,
   "id": "7280c733",
   "metadata": {},
   "outputs": [],
   "source": [
    "!ls -lrt H:\\adf"
   ]
  },
  {
   "cell_type": "code",
   "execution_count": null,
   "id": "6614a22b",
   "metadata": {},
   "outputs": [],
   "source": [
    "import subprocess\n",
    "\n",
    "directory = 'H:\\\\adf'\n",
    "subprocess(['dir', directory], shell=True)"
   ]
  },
  {
   "cell_type": "code",
   "execution_count": null,
   "id": "f2fa12f2",
   "metadata": {},
   "outputs": [],
   "source": [
    "os.listdir(directory)"
   ]
  },
  {
   "cell_type": "code",
   "execution_count": null,
   "id": "c084c3eb",
   "metadata": {},
   "outputs": [],
   "source": [
    "!dir directory"
   ]
  },
  {
   "cell_type": "code",
   "execution_count": null,
   "id": "f4b3961e",
   "metadata": {},
   "outputs": [],
   "source": [
    "subprocess.run(['ls', directory])"
   ]
  },
  {
   "cell_type": "code",
   "execution_count": null,
   "id": "eef78c7b",
   "metadata": {},
   "outputs": [],
   "source": [
    "import subprocess\n",
    "\n",
    "# Define the directory\n",
    "directory = 'H:\\\\adf'\n",
    "\n",
    "# List files in the directory using dir command\n",
    "subprocess.run(['dir', directory], shell=True)\n"
   ]
  },
  {
   "cell_type": "code",
   "execution_count": null,
   "id": "ae8f58d6",
   "metadata": {},
   "outputs": [],
   "source": [
    "# Use the dir command to list files in the directory\n",
    "!dir H:\\adf\n"
   ]
  },
  {
   "cell_type": "code",
   "execution_count": null,
   "id": "35da345f",
   "metadata": {},
   "outputs": [],
   "source": [
    "from pathlib import Path\n",
    "file = Path(\"H:\\\\adf\\\\sales.txt\")\n",
    "print(file.stat().st_size)"
   ]
  },
  {
   "cell_type": "code",
   "execution_count": null,
   "id": "0bed098f",
   "metadata": {},
   "outputs": [],
   "source": [
    "file_path = \"H:\\\\adf\\\\sales.txt\"\n",
    "os.path.getsize(file_path)/ (1024 **3)"
   ]
  },
  {
   "cell_type": "code",
   "execution_count": null,
   "id": "c24cf61e",
   "metadata": {},
   "outputs": [],
   "source": [
    "list_1 = [1, 2, 3, 4]\n",
    "list_2 = ['a', 'b', 'c']\n",
    "\n",
    "for x,y in zip(list_1, list_2):\n",
    "    print(x,y)"
   ]
  },
  {
   "cell_type": "code",
   "execution_count": null,
   "id": "fd313892",
   "metadata": {},
   "outputs": [],
   "source": [
    "from itertools import zip_longest\n",
    "for i,j in zip_longest(list_1, list_2):\n",
    "    print(i,j)"
   ]
  },
  {
   "cell_type": "code",
   "execution_count": null,
   "id": "804d7cea",
   "metadata": {},
   "outputs": [],
   "source": [
    "from pathlib import Path\n",
    "file = Path(file_path)\n",
    "file.stat().st_size"
   ]
  },
  {
   "cell_type": "code",
   "execution_count": null,
   "id": "9edf72c5",
   "metadata": {},
   "outputs": [],
   "source": [
    "file_path = Path(\"sales.txt\").parent.absolute()\n",
    "file_path"
   ]
  },
  {
   "cell_type": "code",
   "execution_count": null,
   "id": "1b750e90",
   "metadata": {},
   "outputs": [],
   "source": [
    "Path().absolute()"
   ]
  },
  {
   "cell_type": "code",
   "execution_count": null,
   "id": "5a8546cc",
   "metadata": {},
   "outputs": [],
   "source": [
    "os.path.dirname(os.path.abspath(\"sales.txt\"))"
   ]
  },
  {
   "cell_type": "code",
   "execution_count": null,
   "id": "cbee1644",
   "metadata": {},
   "outputs": [],
   "source": [
    "os.path.abspath(os.getcwd())"
   ]
  },
  {
   "cell_type": "code",
   "execution_count": null,
   "id": "067aee79",
   "metadata": {},
   "outputs": [],
   "source": [
    "import os, time\n",
    "from pathlib import Path\n",
    "\n",
    "os.path.abspath(\"medical_cost\")"
   ]
  },
  {
   "cell_type": "code",
   "execution_count": null,
   "id": "468d0f5f",
   "metadata": {},
   "outputs": [],
   "source": [
    "os.chdir('H:/python/jupyter')"
   ]
  },
  {
   "cell_type": "code",
   "execution_count": null,
   "id": "2841491b",
   "metadata": {},
   "outputs": [],
   "source": [
    "os.getcwd()"
   ]
  },
  {
   "cell_type": "code",
   "execution_count": null,
   "id": "80005ec0",
   "metadata": {},
   "outputs": [],
   "source": [
    "from pathlib import Path\n",
    "path = Path(\"H:/python/jupyter/new.txt\")"
   ]
  },
  {
   "cell_type": "code",
   "execution_count": null,
   "id": "494687e4",
   "metadata": {},
   "outputs": [],
   "source": [
    "path"
   ]
  },
  {
   "cell_type": "code",
   "execution_count": null,
   "id": "7aa88184",
   "metadata": {},
   "outputs": [],
   "source": [
    "if path.exists():\n",
    "    print(yes)"
   ]
  },
  {
   "cell_type": "code",
   "execution_count": null,
   "id": "5ffcfad6",
   "metadata": {},
   "outputs": [],
   "source": [
    "if path.is_file():\n",
    "    print(\"yes file is there\")"
   ]
  },
  {
   "cell_type": "code",
   "execution_count": null,
   "id": "34735100",
   "metadata": {},
   "outputs": [],
   "source": [
    "dir = Path(\"H:/python/jupyter/new\")"
   ]
  },
  {
   "cell_type": "code",
   "execution_count": null,
   "id": "15c67585",
   "metadata": {},
   "outputs": [],
   "source": [
    "dir.mkdir(parents = True, exist_ok = True)"
   ]
  },
  {
   "cell_type": "code",
   "execution_count": null,
   "id": "06e44e96",
   "metadata": {},
   "outputs": [],
   "source": [
    "import datetime\n",
    "import pathlib\n",
    "\n",
    "fname = pathlib.Path(\"H:/python/jupyter/new.txt\")\n",
    "print(\"Last modification time: %s\" % datetime.datetime.fromtimestamp(fname.stat().st_mtime))\n",
    "print(\"Last metadata change time or path creation time: %s\" % datetime.datetime.fromtimestamp(fname.stat().st_ctime))"
   ]
  },
  {
   "cell_type": "code",
   "execution_count": null,
   "id": "29550fc1",
   "metadata": {},
   "outputs": [],
   "source": [
    "l1 = [1, 2, 3]\n",
    "l2 = ['python', 'c', 'c++']\n",
    "d = {k:v for k in l1 for v in l2}\n",
    "d"
   ]
  },
  {
   "cell_type": "code",
   "execution_count": null,
   "id": "87e6bbd3",
   "metadata": {},
   "outputs": [],
   "source": [
    "d1 = {}\n",
    "for k in l1:\n",
    "    for v in l2:\n",
    "        d1[k] = k[v]\n",
    "print(d1)"
   ]
  },
  {
   "cell_type": "code",
   "execution_count": null,
   "id": "4a0e7eba",
   "metadata": {},
   "outputs": [],
   "source": [
    "tup = tuple(zip(l1,l2))\n",
    "print(tup)"
   ]
  },
  {
   "cell_type": "code",
   "execution_count": null,
   "id": "0398f77c",
   "metadata": {},
   "outputs": [],
   "source": [
    "d = dict(zip(l1,l2))\n",
    "print(d)"
   ]
  },
  {
   "cell_type": "code",
   "execution_count": null,
   "id": "8acea041",
   "metadata": {},
   "outputs": [],
   "source": [
    "d1 = {k: v for k,v in zip(l1,l2)}\n",
    "d1"
   ]
  },
  {
   "cell_type": "code",
   "execution_count": 1,
   "id": "33e6d7f0",
   "metadata": {},
   "outputs": [
    {
     "name": "stdout",
     "output_type": "stream",
     "text": [
      "hello\n"
     ]
    }
   ],
   "source": [
    "print(\"hello\")"
   ]
  },
  {
   "cell_type": "code",
   "execution_count": 2,
   "id": "d0af20a4",
   "metadata": {},
   "outputs": [
    {
     "name": "stdout",
     "output_type": "stream",
     "text": [
      "[1, 2, 3, 4, 5, 6, 7, 9]\n"
     ]
    }
   ],
   "source": [
    "l1 = [1,2,2,3,4,5,5,6,6,7,7,9]\n",
    "\n",
    "for ele in l1:\n",
    "    if l1.count(ele)>1:\n",
    "        l1.remove(ele)\n",
    "print(l1)"
   ]
  },
  {
   "cell_type": "code",
   "execution_count": 8,
   "id": "a22d8585",
   "metadata": {},
   "outputs": [
    {
     "name": "stdout",
     "output_type": "stream",
     "text": [
      "{1: 1, 2: 2, 3: 1, 4: 1, 5: 2, 6: 2, 7: 2, 9: 1}\n",
      "[1, 3, 4, 9]\n"
     ]
    }
   ],
   "source": [
    "l1 = [1,2,2,3,4,5,5,6,6,7,7,9]\n",
    "counts = {}\n",
    "l2=[]\n",
    "\n",
    "for ele in l1:\n",
    "    if ele in counts:\n",
    "        counts[ele] += 1\n",
    "    else:\n",
    "        counts[ele] = 1\n",
    "\n",
    "print(counts)\n",
    "\n",
    "for k,v in counts.items():\n",
    "    if v==1:\n",
    "        l2.append(k)\n",
    "print(l2)\n",
    "        "
   ]
  },
  {
   "cell_type": "code",
   "execution_count": 9,
   "id": "5475f5c1",
   "metadata": {},
   "outputs": [
    {
     "name": "stdout",
     "output_type": "stream",
     "text": [
      "[1, 2, 3, 4, 5, 6, 7, 9]\n"
     ]
    }
   ],
   "source": [
    "l2 =[]\n",
    "for ele in l1:\n",
    "    if ele not in l2:\n",
    "        l2.append(ele)\n",
    "print(l2)"
   ]
  },
  {
   "cell_type": "code",
   "execution_count": 10,
   "id": "edd6e97c",
   "metadata": {},
   "outputs": [
    {
     "data": {
      "text/plain": [
       "120"
      ]
     },
     "execution_count": 10,
     "metadata": {},
     "output_type": "execute_result"
    }
   ],
   "source": [
    "def fac(n):\n",
    "    if n==0: return 1\n",
    "    else: return n* fac(n-1)\n",
    "    \n",
    "fac(5)"
   ]
  },
  {
   "cell_type": "code",
   "execution_count": 11,
   "id": "5e66e2ae",
   "metadata": {},
   "outputs": [
    {
     "data": {
      "text/plain": [
       "0"
      ]
     },
     "execution_count": 11,
     "metadata": {},
     "output_type": "execute_result"
    }
   ],
   "source": [
    "def fact(n):\n",
    "    if n<0: return \"no factorial for negetive number\"\n",
    "    elfi n==1: return 1\n",
    "    for i in range(n+1):\n",
    "            factorial = factorial *i\n",
    "    return factorial\n",
    "fact(5)"
   ]
  },
  {
   "cell_type": "code",
   "execution_count": 2,
   "id": "31661540",
   "metadata": {},
   "outputs": [
    {
     "name": "stdout",
     "output_type": "stream",
     "text": [
      "{2, 5, 6, 7}\n"
     ]
    }
   ],
   "source": [
    "l1 = [1,2,2,3,4,5,5,6,6,7,7,9]\n",
    "\n",
    "l2=[]\n",
    "for ele in l1:\n",
    "    if l1.count(ele)>1:\n",
    "        l2.append(ele)\n",
    "print(set(l2))"
   ]
  },
  {
   "cell_type": "code",
   "execution_count": 4,
   "id": "040994a7",
   "metadata": {},
   "outputs": [
    {
     "name": "stdout",
     "output_type": "stream",
     "text": [
      "{1: 1, 2: 2, 3: 1, 4: 1, 5: 2, 6: 2, 7: 2, 9: 1}\n",
      "[2, 5, 6, 7]\n"
     ]
    }
   ],
   "source": [
    "counts = dict()\n",
    "\n",
    "for ele in l1:\n",
    "    if ele in counts:\n",
    "        counts[ele] += 1\n",
    "    else:\n",
    "        counts[ele] = 1\n",
    "print(counts)\n",
    "\n",
    "l3=[]\n",
    "for k,v in counts.items():\n",
    "    if v>1:\n",
    "        l3.append(k)\n",
    "print(l3)\n",
    "        "
   ]
  },
  {
   "cell_type": "code",
   "execution_count": 5,
   "id": "7efe1b0c",
   "metadata": {},
   "outputs": [
    {
     "ename": "SyntaxError",
     "evalue": "unterminated string literal (detected at line 1) (56367112.py, line 1)",
     "output_type": "error",
     "traceback": [
      "\u001b[1;36m  Cell \u001b[1;32mIn[5], line 1\u001b[1;36m\u001b[0m\n\u001b[1;33m    \"a3b2c4'---> aaabbcccc\u001b[0m\n\u001b[1;37m    ^\u001b[0m\n\u001b[1;31mSyntaxError\u001b[0m\u001b[1;31m:\u001b[0m unterminated string literal (detected at line 1)\n"
     ]
    }
   ],
   "source": [
    "\"a3b2c4'---> aaabbcccc\n",
    "\n",
    "str1 = \"a3b2c4'\n"
   ]
  },
  {
   "cell_type": "code",
   "execution_count": 17,
   "id": "0b2bf79b",
   "metadata": {},
   "outputs": [
    {
     "name": "stdout",
     "output_type": "stream",
     "text": [
      "{'ram': 80, 'viru': 85, 'basanti': 95, 'thakur': 83, 'samba': 85}\n",
      "[95, 85, 83, 80]\n",
      "[95, 95]\n"
     ]
    }
   ],
   "source": [
    "l1 = [['ram',80],['viru',85],['basanti',95], ['thakur',83],['samba',85]]\n",
    "d = dict(l1)\n",
    "print(d)\n",
    "\n",
    "marks = set(d.values())\n",
    "l2 = sorted(marks, reverse = True)\n",
    "print(l2)\n",
    "\n",
    "\n",
    "largest = l2[0]\n",
    "second_largest = l2[0]\n",
    "\n",
    "for i in range(len(l2)):\n",
    "    if l2[i]> largest:\n",
    "        largest = l2[i]\n",
    "for i in range (1,len(l2)-1):\n",
    "    if l2[i]> second_largest and l2[i] != largest:\n",
    "        second_largest = l2[i]\n",
    "l3= [largest, second_largest]\n",
    "print(l3)\n",
    "\n",
    "\n",
    "\n"
   ]
  },
  {
   "cell_type": "code",
   "execution_count": 25,
   "id": "14ddf9b7",
   "metadata": {},
   "outputs": [
    {
     "name": "stdout",
     "output_type": "stream",
     "text": [
      "d32fjk34eria\n"
     ]
    }
   ],
   "source": [
    "str1= 'aire43kjf23d'\n",
    "def rev(str1):\n",
    "    output = ''\n",
    "    for ch in str1:\n",
    "        output =  ch + output\n",
    "    return output\n",
    "\n",
    "print(rev(str1))\n",
    "    \n",
    " \n",
    "    "
   ]
  },
  {
   "cell_type": "code",
   "execution_count": 26,
   "id": "12c2e16d",
   "metadata": {},
   "outputs": [
    {
     "data": {
      "text/plain": [
       "['d', 'f', 'j', 'k', 'e', 'r', 'i', 'a']"
      ]
     },
     "execution_count": 26,
     "metadata": {},
     "output_type": "execute_result"
    }
   ],
   "source": [
    "output =''\n",
    "alphas = [ch for ch in reversed(str1) if ch.isalpha()]\n",
    "alphas"
   ]
  },
  {
   "cell_type": "code",
   "execution_count": 30,
   "id": "60cd76d9",
   "metadata": {},
   "outputs": [
    {
     "ename": "IndexError",
     "evalue": "list index out of range",
     "output_type": "error",
     "traceback": [
      "\u001b[1;31m---------------------------------------------------------------------------\u001b[0m",
      "\u001b[1;31mIndexError\u001b[0m                                Traceback (most recent call last)",
      "Cell \u001b[1;32mIn[30], line 5\u001b[0m\n\u001b[0;32m      3\u001b[0m \u001b[38;5;28;01mfor\u001b[39;00m ch \u001b[38;5;129;01min\u001b[39;00m str1:\n\u001b[0;32m      4\u001b[0m     \u001b[38;5;28;01mif\u001b[39;00m ch\u001b[38;5;241m.\u001b[39misalpha():\n\u001b[1;32m----> 5\u001b[0m         output \u001b[38;5;241m=\u001b[39m  output \u001b[38;5;241m+\u001b[39m alphas[i]\n\u001b[0;32m      6\u001b[0m         i \u001b[38;5;241m+\u001b[39m\u001b[38;5;241m=\u001b[39m \u001b[38;5;241m1\u001b[39m\n\u001b[0;32m      7\u001b[0m     \u001b[38;5;28;01melse\u001b[39;00m:\n",
      "\u001b[1;31mIndexError\u001b[0m: list index out of range"
     ]
    }
   ],
   "source": [
    "alphas = [ch for ch in reversed(str1) if ch.isalpha()]\n",
    "output=''\n",
    "for ch in str1:\n",
    "    if ch.isalpha():\n",
    "        output =  output + alphas[i]\n",
    "        i += 1\n",
    "    else:\n",
    "        output = output + ch\n",
    "print(output)"
   ]
  },
  {
   "cell_type": "code",
   "execution_count": 46,
   "id": "d7a934cb",
   "metadata": {},
   "outputs": [
    {
     "name": "stdout",
     "output_type": "stream",
     "text": [
      "[(0, 1), (2, 4), (5, 6), (6, 7)]\n"
     ]
    }
   ],
   "source": [
    "def solution(l1,target):\n",
    "    l2=[]\n",
    "   \n",
    "    for i in range (len(l1)):\n",
    "        for j in range (i+1,len(l1)):\n",
    "            if l1[i] + l1[j] == target:\n",
    "                l2.append((i,j))\n",
    "                \n",
    "    return l2\n",
    "\n",
    "l1= [2, 7, 11, 15, -2, 6, 3, 6]\n",
    "target=9 \n",
    "indexes= solution(l1,target)\n",
    "print(indexes)"
   ]
  },
  {
   "cell_type": "code",
   "execution_count": 45,
   "id": "d279fd87",
   "metadata": {},
   "outputs": [
    {
     "name": "stdout",
     "output_type": "stream",
     "text": [
      "Indexes with sum equal to 9: [(0, 1), (2, 4), (5, 6), (6, 7)]\n"
     ]
    }
   ],
   "source": [
    "\n",
    "def find_indexes_with_sum(arr, target):\n",
    "    # List to store the result\n",
    "    result = []\n",
    "    \n",
    "    # Iterate through each pair of indices\n",
    "    for i in range(len(arr)):\n",
    "        for j in range(i + 1, len(arr)):\n",
    "            if arr[i] + arr[j] == target:\n",
    "                result.append((i, j))\n",
    "    \n",
    "    return result\n",
    "\n",
    "# Example usage\n",
    "arr = l1= [2, 7, 11, 15, -2, 6, 3, 6]\n",
    "target = 9\n",
    "indexes = find_indexes_with_sum(arr, target)\n",
    "print(\"Indexes with sum equal to 9:\", indexes)"
   ]
  },
  {
   "cell_type": "code",
   "execution_count": 65,
   "id": "4d6d970d",
   "metadata": {},
   "outputs": [
    {
     "ename": "AttributeError",
     "evalue": "'str' object has no attribute 'isspecialchar'",
     "output_type": "error",
     "traceback": [
      "\u001b[1;31m---------------------------------------------------------------------------\u001b[0m",
      "\u001b[1;31mAttributeError\u001b[0m                            Traceback (most recent call last)",
      "Cell \u001b[1;32mIn[65], line 16\u001b[0m\n\u001b[0;32m     14\u001b[0m \u001b[38;5;28;01melif\u001b[39;00m ch\u001b[38;5;241m.\u001b[39misspace():\n\u001b[0;32m     15\u001b[0m     alpha \u001b[38;5;241m=\u001b[39m alpha \u001b[38;5;241m+\u001b[39m \u001b[38;5;124m'\u001b[39m\u001b[38;5;124m \u001b[39m\u001b[38;5;124m'\u001b[39m\n\u001b[1;32m---> 16\u001b[0m \u001b[38;5;28;01melif\u001b[39;00m ch\u001b[38;5;241m.\u001b[39misspecialchar(ch):\n\u001b[0;32m     17\u001b[0m     special \u001b[38;5;241m=\u001b[39m special \u001b[38;5;241m+\u001b[39m ch\n\u001b[0;32m     18\u001b[0m \u001b[38;5;28;01melse\u001b[39;00m:\n",
      "\u001b[1;31mAttributeError\u001b[0m: 'str' object has no attribute 'isspecialchar'"
     ]
    }
   ],
   "source": [
    "    \n",
    "def isspecialchar(ch): \n",
    "    return not ch.isalnum() and not ch.isspace()\n",
    "\n",
    "\n",
    "str1 = \"B7A1R3 hello!\" \n",
    "\n",
    "\n",
    "dig = ''\n",
    "alpha = ''\n",
    "special = ''\n",
    "for ch in str1:\n",
    "    if ch.isalpha():\n",
    "        alpha = alpha + ch\n",
    "    elif ch.isspace():\n",
    "        alpha = alpha + ' '\n",
    "    elif ch.isspecialchar(ch):\n",
    "        special = special + ch\n",
    "    else:\n",
    "        dig = dig + ch\n",
    "\n",
    "print(alpha)\n",
    "print(dig)\n",
    "print(special)\n",
    "\n",
    "\n",
    "    \n",
    "    \n",
    "    \n",
    "    \n",
    "    \n",
    "    "
   ]
  },
  {
   "cell_type": "code",
   "execution_count": 49,
   "id": "a934790a",
   "metadata": {},
   "outputs": [
    {
     "name": "stdout",
     "output_type": "stream",
     "text": [
      "Hello  World \n"
     ]
    }
   ],
   "source": [
    "str1 = \"Hello, World!\"\n",
    "alpha = ''\n",
    "for ch in str1:\n",
    "    if ch.isalpha():\n",
    "        alpha = alpha + ch\n",
    "    else:\n",
    "        alpha = alpha + ' '\n",
    "\n",
    "print(alpha)\n"
   ]
  },
  {
   "cell_type": "code",
   "execution_count": 68,
   "id": "593d3336",
   "metadata": {},
   "outputs": [
    {
     "name": "stdout",
     "output_type": "stream",
     "text": [
      "Alphabets and spaces: BAR\n",
      "Digits: 713\n",
      "Special characters: @\n",
      "ABR137\n"
     ]
    }
   ],
   "source": [
    "def isspecialchar(ch): \n",
    "    return not ch.isalnum() and not ch.isspace()\n",
    "\n",
    "str1 = \"B7A1R3@\"\n",
    "\n",
    "dig = ''\n",
    "alpha = ''\n",
    "special = ''\n",
    "\n",
    "for ch in str1:\n",
    "    if ch.isalpha():\n",
    "        alpha = alpha + ch\n",
    "    elif ch.isspace():\n",
    "        alpha = alpha + ' '\n",
    "    elif isspecialchar(ch):  # Call the custom function directly\n",
    "        special = special + ch\n",
    "    else:\n",
    "        dig = dig + ch\n",
    "\n",
    "print(\"Alphabets and spaces:\", alpha)\n",
    "print(\"Digits:\", dig)\n",
    "print(\"Special characters:\", special)\n",
    "\n",
    "x = ''.join(sorted(alpha)) + ''.join(sorted(dig))\n",
    "print(x)\n"
   ]
  },
  {
   "cell_type": "code",
   "execution_count": 71,
   "id": "433b96ef",
   "metadata": {},
   "outputs": [
    {
     "name": "stdout",
     "output_type": "stream",
     "text": [
      "ABR\n"
     ]
    }
   ],
   "source": [
    "str1 = \"B7A1R3\"\n",
    "#ABR137\n",
    "\n",
    "alpha = ''.join(sorted([ch for ch in str1 if ch.isalpha()]))\n",
    "print(alpha)\n"
   ]
  },
  {
   "cell_type": "code",
   "execution_count": 4,
   "id": "c8e3d021",
   "metadata": {},
   "outputs": [
    {
     "name": "stdout",
     "output_type": "stream",
     "text": [
      "2\n"
     ]
    }
   ],
   "source": [
    "def hcf(x,y):\n",
    "    if x>y:\n",
    "        smaller=y\n",
    "    else:\n",
    "        smaller = x\n",
    "    \n",
    "    hcf=1\n",
    "    for i in range(1,smaller +1):\n",
    "        if ((x%i==0) and (y%i==0)):\n",
    "            hcf = i \n",
    "    return hcf\n",
    "\n",
    "val = hcf(12,14)\n",
    "print(val)"
   ]
  },
  {
   "cell_type": "code",
   "execution_count": 5,
   "id": "f0257990",
   "metadata": {},
   "outputs": [
    {
     "name": "stdout",
     "output_type": "stream",
     "text": [
      "re.compile('[^a-zA-Z0-9\\\\s]')\n"
     ]
    }
   ],
   "source": [
    "import re\n",
    "sent = \"Hello, World! Welcome to the year 2024.\"\n",
    "pattern = re.compile('[^a-zA-Z0-9\\s]')\n",
    "print(pattern)"
   ]
  },
  {
   "cell_type": "code",
   "execution_count": 6,
   "id": "063acf6e",
   "metadata": {},
   "outputs": [
    {
     "name": "stdout",
     "output_type": "stream",
     "text": [
      "Hello World Welcome to the year 2024\n"
     ]
    }
   ],
   "source": [
    "cleaned_txt = pattern.sub('', sent)\n",
    "print(cleaned_txt)"
   ]
  },
  {
   "cell_type": "code",
   "execution_count": 7,
   "id": "983cfb26",
   "metadata": {},
   "outputs": [
    {
     "data": {
      "text/plain": [
       "re.compile(r'[a-z]+', re.UNICODE)"
      ]
     },
     "execution_count": 7,
     "metadata": {},
     "output_type": "execute_result"
    }
   ],
   "source": [
    "p = re.compile('[a-z]+')\n",
    "p"
   ]
  },
  {
   "cell_type": "code",
   "execution_count": 9,
   "id": "5a5c090f",
   "metadata": {},
   "outputs": [
    {
     "name": "stdout",
     "output_type": "stream",
     "text": [
      "[(1, -1), (2, -2), (3, -3), (4, -4)]\n"
     ]
    }
   ],
   "source": [
    "def has_sum_zero(l):\n",
    "    res=[]\n",
    "    for i in range(len(l)):\n",
    "        for j in range(i+1,len(l)):\n",
    "            if l[i] + l[j] ==0:\n",
    "                res.append((l[i], l[j]))\n",
    "        \n",
    "    return res\n",
    "\n",
    "\n",
    "\n",
    "nums = [1, 2, 3, 4, -1, -2, -3, -4]\n",
    "print(has_sum_zero(nums)) "
   ]
  },
  {
   "cell_type": "code",
   "execution_count": 12,
   "id": "56c801a8",
   "metadata": {},
   "outputs": [
    {
     "name": "stdout",
     "output_type": "stream",
     "text": [
      "[(-1, 1), (-2, 2), (-3, 3), (-4, 4)]\n"
     ]
    },
    {
     "ename": "NameError",
     "evalue": "name 'seen' is not defined",
     "output_type": "error",
     "traceback": [
      "\u001b[1;31m---------------------------------------------------------------------------\u001b[0m",
      "\u001b[1;31mNameError\u001b[0m                                 Traceback (most recent call last)",
      "Cell \u001b[1;32mIn[12], line 14\u001b[0m\n\u001b[0;32m     12\u001b[0m nums \u001b[38;5;241m=\u001b[39m [\u001b[38;5;241m1\u001b[39m, \u001b[38;5;241m2\u001b[39m, \u001b[38;5;241m3\u001b[39m, \u001b[38;5;241m4\u001b[39m, \u001b[38;5;241m-\u001b[39m\u001b[38;5;241m1\u001b[39m, \u001b[38;5;241m-\u001b[39m\u001b[38;5;241m2\u001b[39m, \u001b[38;5;241m-\u001b[39m\u001b[38;5;241m3\u001b[39m, \u001b[38;5;241m-\u001b[39m\u001b[38;5;241m4\u001b[39m]\n\u001b[0;32m     13\u001b[0m \u001b[38;5;28mprint\u001b[39m(has_sum_zero(nums))  \u001b[38;5;66;03m# Output: [(1, -1), (2, -2), (3, -3), (4, -4)]\u001b[39;00m\n\u001b[1;32m---> 14\u001b[0m \u001b[38;5;28mprint\u001b[39m(seen)\n",
      "\u001b[1;31mNameError\u001b[0m: name 'seen' is not defined"
     ]
    }
   ],
   "source": [
    "def has_sum_zero(l):\n",
    "    res = []\n",
    "    seen = set()\n",
    "    \n",
    "    for num in l:\n",
    "        if -num in seen:\n",
    "            res.append((num, -num))\n",
    "        seen.add(num)\n",
    "    \n",
    "    return res\n",
    "\n",
    "nums = [1, 2, 3, 4, -1, -2, -3, -4]\n",
    "print(has_sum_zero(nums))  # Output: [(1, -1), (2, -2), (3, -3), (4, -4)]\n",
    "print(seen)"
   ]
  },
  {
   "cell_type": "code",
   "execution_count": 13,
   "id": "6a33fc1d",
   "metadata": {},
   "outputs": [
    {
     "name": "stdout",
     "output_type": "stream",
     "text": [
      "yes\n"
     ]
    }
   ],
   "source": [
    "def anagram(s1,s2):\n",
    "    if sorted(s1) == sorted(s2):\n",
    "        return 'yes'\n",
    "    return 'no'\n",
    "\n",
    "s1 = \"abc\"\n",
    "s2 = \"bca\"\n",
    "\n",
    "ana = anagram(s1,s2)\n",
    "print(ana)\n"
   ]
  },
  {
   "cell_type": "code",
   "execution_count": 15,
   "id": "a81668ab",
   "metadata": {},
   "outputs": [
    {
     "name": "stdout",
     "output_type": "stream",
     "text": [
      "{'a': 3, 'b': 2, 'c': 1, 'd': 1}\n"
     ]
    }
   ],
   "source": [
    "def freq(s1):\n",
    "    d={}\n",
    "    for ch in s1:\n",
    "        if ch in d:\n",
    "            d[ch] +=1\n",
    "        else:\n",
    "            d[ch] = 1\n",
    "    return d\n",
    "\n",
    "\n",
    "s1 = \"abcdaab\"\n",
    "f = freq(s1)\n",
    "print(f)"
   ]
  },
  {
   "cell_type": "code",
   "execution_count": 16,
   "id": "9d575252",
   "metadata": {},
   "outputs": [
    {
     "name": "stdout",
     "output_type": "stream",
     "text": [
      "[1, 2, [7, 9, [15, [12, 9]], 18, 10]]\n"
     ]
    }
   ],
   "source": [
    "l1=[1,2,[7,9,[15,[12,9]],18,10]]\n",
    "print(l1)\n"
   ]
  },
  {
   "cell_type": "code",
   "execution_count": 41,
   "id": "d3c124b6",
   "metadata": {},
   "outputs": [
    {
     "name": "stdout",
     "output_type": "stream",
     "text": [
      "[[1, 2], [3, 4], [2, 3], [5, 1], [7, 1, 2]]\n"
     ]
    }
   ],
   "source": [
    "l1 = [[1,2],[3,4],[2,3],[5,1],[7,1,2]]\n",
    "flatten = []\n",
    "for ele in l1:\n",
    "    if type(ele) is list:\n",
    "        flatten.extend(flatten(ele)\n",
    "print(flatten)"
   ]
  },
  {
   "cell_type": "code",
   "execution_count": 43,
   "id": "af55ee3f",
   "metadata": {},
   "outputs": [
    {
     "name": "stdout",
     "output_type": "stream",
     "text": [
      "[1, 2, 3, 4, 2, 3, 5, 1, 7, 1, 2]\n"
     ]
    }
   ],
   "source": [
    "def flatten(l1):\n",
    "    l2=[]\n",
    "    for sub in l1:\n",
    "        if (type(sub) is list):\n",
    "            l2.extend(flatten(sub))\n",
    "        \n",
    "        else:\n",
    "            l2.append(sub)\n",
    "    return l2\n",
    "#l1=[1,2,[7,9,[15,[12,9]],18,10]]\n",
    "l1 = [[1,2],[3,4],[2,3],[5,1],[7,1,2]]\n",
    "res = flatten(l1)\n",
    "print(res)"
   ]
  },
  {
   "cell_type": "code",
   "execution_count": 24,
   "id": "6b89e68a",
   "metadata": {},
   "outputs": [
    {
     "name": "stdout",
     "output_type": "stream",
     "text": [
      "{'b': 4, 'c': 3, 'd': 2, 'a': 1}\n",
      "[4, 3, 2, 1]\n"
     ]
    }
   ],
   "source": [
    "str1 = 'bbbbcccdda'\n",
    "d={}\n",
    "for ch in str1: \n",
    "    if ch in d: \n",
    "        d[ch] += 1\n",
    "    else: \n",
    "        d[ch] = 1\n",
    "print(d)\n",
    "\n",
    "l=[]\n",
    "for k in d:\n",
    "    l.append(d[k])\n",
    "print(l)\n",
    "\n",
    "        \n",
    "    \n",
    "    "
   ]
  },
  {
   "cell_type": "code",
   "execution_count": 25,
   "id": "af6e9944",
   "metadata": {},
   "outputs": [
    {
     "ename": "SyntaxError",
     "evalue": "incomplete input (3942959620.py, line 1)",
     "output_type": "error",
     "traceback": [
      "\u001b[1;36m  Cell \u001b[1;32mIn[25], line 1\u001b[1;36m\u001b[0m\n\u001b[1;33m    def counter(str1):\u001b[0m\n\u001b[1;37m                      ^\u001b[0m\n\u001b[1;31mSyntaxError\u001b[0m\u001b[1;31m:\u001b[0m incomplete input\n"
     ]
    }
   ],
   "source": []
  },
  {
   "cell_type": "code",
   "execution_count": 29,
   "id": "f2a1bb63",
   "metadata": {},
   "outputs": [
    {
     "name": "stdout",
     "output_type": "stream",
     "text": [
      "[4, 3, 2, 1]\n"
     ]
    }
   ],
   "source": [
    "def counter(str1):\n",
    "    count = 1\n",
    "    l=[]\n",
    "    for i in range(1, len(str1)):\n",
    "        if(str1[i] == str1[i-1]):\n",
    "            count += 1\n",
    "        else:\n",
    "            l.append(count)\n",
    "            count = 1\n",
    "    l.append(count)\n",
    "    return l\n",
    "\n",
    "\n",
    "str1 = 'bbbbcccdda'\n",
    "x = counter(str1)\n",
    "print(x)"
   ]
  },
  {
   "cell_type": "code",
   "execution_count": 30,
   "id": "c002c05c",
   "metadata": {},
   "outputs": [
    {
     "name": "stdout",
     "output_type": "stream",
     "text": [
      "{'b', 'c', 'd', 'a'}\n"
     ]
    }
   ],
   "source": [
    "set1 =set(str1)\n",
    "print(set1)"
   ]
  },
  {
   "cell_type": "code",
   "execution_count": 33,
   "id": "24316006",
   "metadata": {},
   "outputs": [
    {
     "name": "stdout",
     "output_type": "stream",
     "text": [
      "[{'g', 'r', 's'}]\n"
     ]
    }
   ],
   "source": [
    "str1 = \"sagar prajapati\"\n",
    "str2 = \"geekcoders\"\n",
    "\n",
    "res = [ set(str1) & set(str2)]\n",
    "\n",
    "print(res)\n"
   ]
  },
  {
   "cell_type": "code",
   "execution_count": 37,
   "id": "24e0e0b0",
   "metadata": {},
   "outputs": [
    {
     "name": "stdout",
     "output_type": "stream",
     "text": [
      "grs\n"
     ]
    }
   ],
   "source": [
    "def common_letter(str1,str2):\n",
    "    l=[]\n",
    "    for i in range(len(str1)):\n",
    "        if str1[i] in str2:\n",
    "            l.append(str1[i])\n",
    "            \n",
    "    return l\n",
    "\n",
    "x = common_letter(str1,str2)\n",
    "y = ''.join(sorted(set(x)))\n",
    "print(y)\n",
    "            \n",
    "        "
   ]
  },
  {
   "cell_type": "code",
   "execution_count": 40,
   "id": "327b38d0",
   "metadata": {},
   "outputs": [
    {
     "name": "stdout",
     "output_type": "stream",
     "text": [
      "{'g', 'r', 's'}\n"
     ]
    }
   ],
   "source": [
    "def common_letter1(str1,str2):\n",
    "    return set(str1).intersection(set(str2))\n",
    "\n",
    "x1 = common_letter1(str1,str2)\n",
    "#y1 = ''.join(sorted(set(x1)))\n",
    "print(x1)"
   ]
  },
  {
   "cell_type": "code",
   "execution_count": 44,
   "id": "9a3658aa",
   "metadata": {},
   "outputs": [
    {
     "ename": "NameError",
     "evalue": "name 'os' is not defined",
     "output_type": "error",
     "traceback": [
      "\u001b[1;31m---------------------------------------------------------------------------\u001b[0m",
      "\u001b[1;31mNameError\u001b[0m                                 Traceback (most recent call last)",
      "Cell \u001b[1;32mIn[44], line 1\u001b[0m\n\u001b[1;32m----> 1\u001b[0m os\u001b[38;5;241m.\u001b[39mgetcwd()\n",
      "\u001b[1;31mNameError\u001b[0m: name 'os' is not defined"
     ]
    }
   ],
   "source": [
    "os.getcwd()"
   ]
  },
  {
   "cell_type": "code",
   "execution_count": 45,
   "id": "6925e0e9",
   "metadata": {},
   "outputs": [
    {
     "data": {
      "text/plain": [
       "{'a': 150, 'b': 75, 'c': 200, 'd': 50, 'e': 300}"
      ]
     },
     "execution_count": 45,
     "metadata": {},
     "output_type": "execute_result"
    }
   ],
   "source": [
    "map = {'a': 150, 'b': 75, 'c': 200, 'd':50,'e':300}\n",
    "map"
   ]
  },
  {
   "cell_type": "code",
   "execution_count": 49,
   "id": "1be070d2",
   "metadata": {},
   "outputs": [
    {
     "name": "stdout",
     "output_type": "stream",
     "text": [
      "{'e', 'c', 'a'}\n"
     ]
    }
   ],
   "source": [
    "d1 = {k for k,v in map.items() if map[k]>100}\n",
    "print(d1)"
   ]
  },
  {
   "cell_type": "code",
   "execution_count": 51,
   "id": "24be1261",
   "metadata": {},
   "outputs": [
    {
     "name": "stdout",
     "output_type": "stream",
     "text": [
      "kdhps erlgco\n"
     ]
    }
   ],
   "source": [
    "str1 = 'geekcoders geekcoders hellpo'\n",
    "\n",
    "res1 = ''.join(set(str1))\n",
    "print(res1)"
   ]
  },
  {
   "cell_type": "code",
   "execution_count": 64,
   "id": "d68e2263",
   "metadata": {},
   "outputs": [
    {
     "name": "stdout",
     "output_type": "stream",
     "text": [
      "ggggggggggggggggggggggggggeeeeeeeeeeeeeeeeeeeeeeeeeeeeeeeeeeeeeeeekkkkkkkkkkkkkkkkkkkkkkkccccccccccccccccccccccooooooooooooooooooooddddddddddddddddddddeeeeeeeeeeeeeeeerrrrrrrrrrrrrrrrrrsssssssssssssssss                ggggggggggggggggeeeeeeeeeeeeeeeeeeeeeeeekkkkkkkkkkkkkccccccccccccooooooooooddddddddddeeeeeeeerrrrrrrrsssssss      hhhhheeeellllp\n"
     ]
    }
   ],
   "source": [
    "def remove_dup(str1):\n",
    "    unique =[]\n",
    "    dup = []\n",
    "    for i in range(len(str1)):\n",
    "        for j in range(i+1,len(str1)):\n",
    "            if str1[i]==str1[j]:\n",
    "                dup.append(str1[i])\n",
    "            else:\n",
    "                unique.append(str1[i])\n",
    "    return unique\n",
    "               \n",
    "    \n",
    "                \n",
    "   \n",
    "\n",
    "\n",
    "str1 = 'geekcoders geekcoders hellpo'\n",
    "out = remove_dup(str1)\n",
    "out1 = ''.join(out)\n",
    "print(out1)"
   ]
  },
  {
   "cell_type": "code",
   "execution_count": 54,
   "id": "54f1d125",
   "metadata": {},
   "outputs": [],
   "source": [
    "def remove_char(str1, char1):\n",
    "    return str1.replace(char1,'')\n"
   ]
  },
  {
   "cell_type": "code",
   "execution_count": 66,
   "id": "b453abbb",
   "metadata": {},
   "outputs": [
    {
     "name": "stdout",
     "output_type": "stream",
     "text": [
      "['geekcoders', 'geekcoders', 'hellpo']\n"
     ]
    }
   ],
   "source": [
    "str1 =str1.split()\n",
    "print(str1)\n"
   ]
  },
  {
   "cell_type": "code",
   "execution_count": 67,
   "id": "e4298a4f",
   "metadata": {},
   "outputs": [
    {
     "name": "stdout",
     "output_type": "stream",
     "text": [
      "{'geekcoders': 2, 'hellpo': 1}\n"
     ]
    }
   ],
   "source": [
    "\n",
    "d= {}\n",
    "for ch in str1:\n",
    "    if ch in d:\n",
    "        d[ch] += 1\n",
    "    else:\n",
    "        d[ch] = 1\n",
    "print(d)"
   ]
  },
  {
   "cell_type": "code",
   "execution_count": 76,
   "id": "7eff4fce",
   "metadata": {},
   "outputs": [
    {
     "name": "stdout",
     "output_type": "stream",
     "text": [
      "OrderedDict([('g', None), ('e', None), ('k', None), ('c', None), ('o', None), ('d', None), ('r', None), ('s', None), (' ', None), ('h', None), ('l', None), ('p', None)])\n",
      "gekcodrs hlp\n"
     ]
    }
   ],
   "source": [
    "from collections import OrderedDict\n",
    "x = OrderedDict.fromkeys(str1)\n",
    "print(x)\n",
    "y = ''.join(x)\n",
    "print(y)"
   ]
  },
  {
   "cell_type": "code",
   "execution_count": 75,
   "id": "5099fc34",
   "metadata": {},
   "outputs": [
    {
     "name": "stdout",
     "output_type": "stream",
     "text": [
      "gekcodrs hlp\n"
     ]
    }
   ],
   "source": [
    "from collections import OrderedDict\n",
    "\n",
    "def unique_characters_ordered_dict(str1):\n",
    "    return ''.join(OrderedDict.fromkeys(str1))\n",
    "\n",
    "str1 = 'geekcoders geekcoders hellpo'\n",
    "print(unique_characters_ordered_dict(str1))  # Output: 'gekodrs hlp'\n"
   ]
  },
  {
   "cell_type": "code",
   "execution_count": 78,
   "id": "c810731c",
   "metadata": {},
   "outputs": [
    {
     "name": "stdout",
     "output_type": "stream",
     "text": [
      "gekcodrs hlp\n"
     ]
    }
   ],
   "source": [
    "seen = set()\n",
    "res = ''.join([ch for ch in str1 if not(ch in seen or seen.add(ch))])\n",
    "print(res)"
   ]
  },
  {
   "cell_type": "code",
   "execution_count": 79,
   "id": "bb484893",
   "metadata": {},
   "outputs": [
    {
     "name": "stdout",
     "output_type": "stream",
     "text": [
      "gekcodrs hlp\n"
     ]
    }
   ],
   "source": [
    "r = ''.join([ch for i, ch in enumerate(str1) if ch not in str1[:i]])\n",
    "print(r)"
   ]
  },
  {
   "cell_type": "code",
   "execution_count": 82,
   "id": "6306380c",
   "metadata": {},
   "outputs": [
    {
     "name": "stdout",
     "output_type": "stream",
     "text": [
      "['Sam', 'Ravi']\n",
      "[432, 'Jailer']\n"
     ]
    }
   ],
   "source": [
    "l1 = [1,2,3,['Sam','Ravi'],45,[432,'Jailer'],43,'Sam']\n",
    "\n",
    "for ele in l1:\n",
    "    if (type(ele) == list):\n",
    "        print(ele)\n"
   ]
  },
  {
   "cell_type": "code",
   "execution_count": null,
   "id": "0bad63bd",
   "metadata": {},
   "outputs": [],
   "source": [
    "s = \"hello\"\n",
    "\n",
    "res = \"\"\n",
    "for ch in s:\n",
    "    res = res+ch*3\n",
    "print(res)"
   ]
  },
  {
   "cell_type": "code",
   "execution_count": 5,
   "id": "0efd40c2",
   "metadata": {},
   "outputs": [
    {
     "name": "stdout",
     "output_type": "stream",
     "text": [
      "geekcodersisthis\n"
     ]
    }
   ],
   "source": [
    "sent = 'this is geekcoders'\n",
    "def rev(sent):\n",
    "    words = sent.split()\n",
    "    res =[]\n",
    "    while (len(words))>0:\n",
    "        word = words.pop()\n",
    "        res.append(word)\n",
    "    return ''.join(res)\n",
    "\n",
    "print(rev(sent))"
   ]
  },
  {
   "cell_type": "code",
   "execution_count": 7,
   "id": "21096300",
   "metadata": {},
   "outputs": [
    {
     "name": "stdout",
     "output_type": "stream",
     "text": [
      "OrderedDict([(1, None), (2, None), (3, None)])\n"
     ]
    }
   ],
   "source": [
    "arr = [1,2,2,2,3,1,2]\n",
    "from collections import OrderedDict\n",
    "\n",
    "res = OrderedDict.fromkeys(arr)\n",
    "print(res)"
   ]
  },
  {
   "cell_type": "code",
   "execution_count": 9,
   "id": "0c32d473",
   "metadata": {},
   "outputs": [
    {
     "name": "stdout",
     "output_type": "stream",
     "text": [
      "-4\n"
     ]
    }
   ],
   "source": [
    "l = [1, 2, 3, 4, -1, -2, -3, -4]\n",
    "min = l[0]\n",
    "\n",
    "for ele in l:\n",
    "    if ele<min:\n",
    "        min = ele\n",
    "print(min)\n",
    "    "
   ]
  },
  {
   "cell_type": "code",
   "execution_count": 16,
   "id": "d0974f3e",
   "metadata": {},
   "outputs": [
    {
     "name": "stdout",
     "output_type": "stream",
     "text": [
      "[-4, -3, -2, -1, 1, 2, 3, 4]\n"
     ]
    }
   ],
   "source": [
    "x = sorted(l)\n",
    "print(x)"
   ]
  },
  {
   "cell_type": "code",
   "execution_count": 17,
   "id": "7e93d1f9",
   "metadata": {},
   "outputs": [
    {
     "name": "stdout",
     "output_type": "stream",
     "text": [
      "False\n"
     ]
    }
   ],
   "source": [
    "\n",
    "\n",
    "def check_sort(l):\n",
    "    k=0\n",
    "    for i in range(len(l)-1):\n",
    "        if(l[i]<=l[i+1]):\n",
    "            pass\n",
    "        else:\n",
    "            k = 1\n",
    "            break\n",
    "    return k ==0\n",
    "\n",
    "print(check_sort([1,3,2,4,5]))"
   ]
  },
  {
   "cell_type": "code",
   "execution_count": 18,
   "id": "20fcafd8",
   "metadata": {},
   "outputs": [
    {
     "name": "stdout",
     "output_type": "stream",
     "text": [
      "1 1\n",
      "2 1\n",
      "3 1\n",
      "4 1\n",
      "-1 1\n",
      "-2 1\n",
      "-3 1\n",
      "-4 1\n",
      "{1: 1, 2: 1, 3: 1, 4: 1, -1: 1, -2: 1, -3: 1, -4: 1}\n"
     ]
    }
   ],
   "source": [
    "l = [1, 2, 3, 4, -1, -2, -3, -4]\n",
    "\n",
    "def counter(l):\n",
    "    freq={}\n",
    "    for ele in l:\n",
    "        freq[ele] = freq.get(ele,0)+1\n",
    "        print(ele, freq[ele])\n",
    "    return freq\n",
    "\n",
    "print(counter(l))"
   ]
  },
  {
   "cell_type": "code",
   "execution_count": 22,
   "id": "55802c63",
   "metadata": {},
   "outputs": [
    {
     "name": "stdout",
     "output_type": "stream",
     "text": [
      "['Hello', 'Geeks', 'this', 'is', 'what', 'I', 'am', 'trying', 'to', 'tell', 'you']\n",
      "['HelO', 'GeeS', 'ThS', 'IS', 'WhT', 'II', 'AM', 'TryiG', 'TO', 'TeL', 'YU']\n"
     ]
    }
   ],
   "source": [
    "#convert each word first and last char of any word in to uppper in sent\n",
    "str1 = \"Hello Geeks this is what I am trying to tell you\"\n",
    "#out = \"HellO GeekS\"\n",
    "words = str1.split()\n",
    "print(words)\n",
    "\n",
    "def first_last_upper(word):\n",
    "    return word[0].upper() + word[1:-2] + word[-1].upper()\n",
    "\n",
    "res = [first_last_upper(word) for word in str1.split()]\n",
    "print(res)"
   ]
  },
  {
   "cell_type": "code",
   "execution_count": 20,
   "id": "a89b9dcb",
   "metadata": {},
   "outputs": [
    {
     "name": "stdout",
     "output_type": "stream",
     "text": [
      "YU\n"
     ]
    }
   ],
   "source": [
    "\n"
   ]
  },
  {
   "cell_type": "code",
   "execution_count": 24,
   "id": "fdc2f1d5",
   "metadata": {},
   "outputs": [
    {
     "name": "stdout",
     "output_type": "stream",
     "text": [
      "[30, 5, 7]\n"
     ]
    }
   ],
   "source": [
    "l = [\"30 student\", \"5 student\", \"7 student\"]\n",
    "res = [int(ele.split()[0]) for ele in l]\n",
    "print(res)"
   ]
  },
  {
   "cell_type": "code",
   "execution_count": 33,
   "id": "43d3f613",
   "metadata": {},
   "outputs": [
    {
     "name": "stdout",
     "output_type": "stream",
     "text": [
      "set()\n"
     ]
    }
   ],
   "source": [
    "\n",
    "str1 = \"geeks for geeks\"\n",
    "seen = set()\n",
    "for ch in str1:\n",
    "    if ch in seen:\n",
    "        seen.add(ch)\n",
    "print(seen)\n",
    "        \n",
    "        \n",
    "\n",
    "\n",
    "    "
   ]
  },
  {
   "cell_type": "code",
   "execution_count": 37,
   "id": "8278afdd",
   "metadata": {},
   "outputs": [
    {
     "name": "stdout",
     "output_type": "stream",
     "text": [
      "geks for\n"
     ]
    }
   ],
   "source": [
    "str1 = \"geeks for geeks\"\n",
    "seen=set()\n",
    "res = ''.join([ch for ch in str1 if not (ch in seen or seen.add(ch))])\n",
    "print(res)"
   ]
  },
  {
   "cell_type": "code",
   "execution_count": 38,
   "id": "c88a8ed4",
   "metadata": {},
   "outputs": [
    {
     "name": "stdout",
     "output_type": "stream",
     "text": [
      "gekcodrs hlp\n"
     ]
    }
   ],
   "source": [
    "def remove_duplicates_list_comprehension(s):\n",
    "    seen = set()\n",
    "    return ''.join([char for char in s if not (char in seen or seen.add(char))])\n",
    "\n",
    "# Example usage\n",
    "str1 = 'geekcoders geekcoders hellpo'\n",
    "print(remove_duplicates_list_comprehension(str1))  # Output: 'gekodrs hlp'\n"
   ]
  },
  {
   "cell_type": "code",
   "execution_count": 46,
   "id": "afb956be",
   "metadata": {},
   "outputs": [
    {
     "name": "stdout",
     "output_type": "stream",
     "text": [
      "['m', 'y', '2', '3', 'n', 'a', 'm', 'e', '4', '5', 'i', 's']\n",
      "['s', 'i', '5', '4', 'e', 'm']\n"
     ]
    }
   ],
   "source": [
    "str1 = 'my23name45is'\n",
    "str1_l = list(str1)\n",
    "\n",
    "print(str1_l)\n",
    "res =[]\n",
    "for ch in str1_l:\n",
    "    last1 = str1_l.pop()\n",
    "    res.append(last1)\n",
    "print(res)\n",
    "\n",
    "\n",
    "    "
   ]
  },
  {
   "cell_type": "code",
   "execution_count": 40,
   "id": "de9bdeef",
   "metadata": {},
   "outputs": [
    {
     "name": "stdout",
     "output_type": "stream",
     "text": [
      "Hello, Beautiful World\n"
     ]
    }
   ],
   "source": [
    "original = \"Hello World\"\n",
    "index = 5\n",
    "substring = \", Beautiful\"\n",
    "\n",
    "new_string = original[:index] + substring + original[index:]\n",
    "print(new_string)  # Output: \"Hello, Beautiful World\"\n"
   ]
  },
  {
   "cell_type": "code",
   "execution_count": 48,
   "id": "07f33903",
   "metadata": {},
   "outputs": [
    {
     "name": "stdout",
     "output_type": "stream",
     "text": [
      "['s', 'i', '5', '4', 'e', 'm', 'a', 'n', '3', '2', 'y', 'm']\n",
      "si54eman32ym\n"
     ]
    }
   ],
   "source": [
    "res =[]\n",
    "for i in range(len(str1)-1, -1, -1):\n",
    "    res.append(str1[i])\n",
    "print(res)\n",
    "y = ''.join(res)\n",
    "print(y)\n",
    "    "
   ]
  },
  {
   "cell_type": "code",
   "execution_count": 51,
   "id": "c61348d0",
   "metadata": {},
   "outputs": [
    {
     "name": "stdout",
     "output_type": "stream",
     "text": [
      "si54eman32ym\n"
     ]
    }
   ],
   "source": [
    "def rev1(str1):\n",
    "    return str1[::-1]\n",
    "\n",
    "str1 = 'my23name45is'\n",
    "print(rev1(str1))"
   ]
  },
  {
   "cell_type": "code",
   "execution_count": 52,
   "id": "ea28a7c4",
   "metadata": {},
   "outputs": [
    {
     "name": "stdout",
     "output_type": "stream",
     "text": [
      "si54eman32ym\n"
     ]
    }
   ],
   "source": [
    "res2 = ''.join(reversed(str1))\n",
    "print(res2)\n"
   ]
  },
  {
   "cell_type": "code",
   "execution_count": 53,
   "id": "9e1b1511",
   "metadata": {},
   "outputs": [
    {
     "name": "stdout",
     "output_type": "stream",
     "text": [
      "si54eman32ym\n"
     ]
    }
   ],
   "source": [
    "\n",
    "output = \"\"\n",
    "for ch in str1:\n",
    "    output = ch + output\n",
    "print(output)"
   ]
  },
  {
   "cell_type": "code",
   "execution_count": 54,
   "id": "fa26c4f7",
   "metadata": {},
   "outputs": [
    {
     "name": "stdout",
     "output_type": "stream",
     "text": [
      "['m', 'y', '2', '3', 'n', 'a', 'm', 'e', '4', '5', 'i', 's']\n"
     ]
    }
   ],
   "source": [
    "l1 = list(str1)\n",
    "print(l1)"
   ]
  },
  {
   "cell_type": "code",
   "execution_count": 63,
   "id": "d90585f5",
   "metadata": {},
   "outputs": [
    {
     "ename": "TypeError",
     "evalue": "can only join an iterable",
     "output_type": "error",
     "traceback": [
      "\u001b[1;31m---------------------------------------------------------------------------\u001b[0m",
      "\u001b[1;31mTypeError\u001b[0m                                 Traceback (most recent call last)",
      "Cell \u001b[1;32mIn[63], line 3\u001b[0m\n\u001b[0;32m      1\u001b[0m l1 \u001b[38;5;241m=\u001b[39m \u001b[38;5;28mlist\u001b[39m(str1)\n\u001b[0;32m      2\u001b[0m rev_lis \u001b[38;5;241m=\u001b[39m l1\u001b[38;5;241m.\u001b[39mreverse()\n\u001b[1;32m----> 3\u001b[0m x \u001b[38;5;241m=\u001b[39m \u001b[38;5;124m'\u001b[39m\u001b[38;5;124m'\u001b[39m\u001b[38;5;241m.\u001b[39mjoin(rev_lis)\n\u001b[0;32m      4\u001b[0m \u001b[38;5;28mprint\u001b[39m(x)\n",
      "\u001b[1;31mTypeError\u001b[0m: can only join an iterable"
     ]
    }
   ],
   "source": [
    "l1 = list(str1)\n",
    "rev_lis = l1.reverse()\n",
    "x = ''.join(rev_lis)\n",
    "print(x)"
   ]
  },
  {
   "cell_type": "code",
   "execution_count": 59,
   "id": "ce546fcd",
   "metadata": {},
   "outputs": [
    {
     "name": "stdout",
     "output_type": "stream",
     "text": [
      "si54eman32ym\n"
     ]
    }
   ],
   "source": [
    "from functools import reduce\n",
    "\n",
    "rev = reduce(lambda x,y: y+x, str1)\n",
    "print(rev)"
   ]
  },
  {
   "cell_type": "code",
   "execution_count": 60,
   "id": "3b1475ec",
   "metadata": {},
   "outputs": [
    {
     "name": "stdout",
     "output_type": "stream",
     "text": [
      "si54eman32ym\n"
     ]
    }
   ],
   "source": [
    "def rec(str1):\n",
    "    if len(str1) == 0:\n",
    "        return str1\n",
    "    else:\n",
    "        return str1[-1] + rec(str1[:-1])\n",
    "\n",
    "res = rec(str1)\n",
    "print(res)"
   ]
  },
  {
   "cell_type": "code",
   "execution_count": 62,
   "id": "d71f59c0",
   "metadata": {},
   "outputs": [
    {
     "ename": "TypeError",
     "evalue": "can only join an iterable",
     "output_type": "error",
     "traceback": [
      "\u001b[1;31m---------------------------------------------------------------------------\u001b[0m",
      "\u001b[1;31mTypeError\u001b[0m                                 Traceback (most recent call last)",
      "Cell \u001b[1;32mIn[62], line 4\u001b[0m\n\u001b[0;32m      1\u001b[0m s \u001b[38;5;241m=\u001b[39m \u001b[38;5;124m\"\u001b[39m\u001b[38;5;124mHello World\u001b[39m\u001b[38;5;124m\"\u001b[39m\n\u001b[0;32m      2\u001b[0m char_list \u001b[38;5;241m=\u001b[39m \u001b[38;5;28mlist\u001b[39m(s)\n\u001b[1;32m----> 4\u001b[0m reversed_s \u001b[38;5;241m=\u001b[39m \u001b[38;5;124m'\u001b[39m\u001b[38;5;124m'\u001b[39m\u001b[38;5;241m.\u001b[39mjoin(char_list\u001b[38;5;241m.\u001b[39mreverse())\n\u001b[0;32m      5\u001b[0m \u001b[38;5;28mprint\u001b[39m(reversed_s)\n",
      "\u001b[1;31mTypeError\u001b[0m: can only join an iterable"
     ]
    }
   ],
   "source": [
    "s = \"Hello World\"\n",
    "char_list = list(s)\n",
    "\n",
    "reversed_s = ''.join(char_list.reverse())\n",
    "print(reversed_s)  # Output: \"dlroW olleH\"\n"
   ]
  },
  {
   "cell_type": "code",
   "execution_count": 69,
   "id": "089a5d53",
   "metadata": {},
   "outputs": [
    {
     "name": "stdout",
     "output_type": "stream",
     "text": [
      "['s', 'i', 'e', 'm', 'a', 'n', 'y', 'm']\n",
      "si23eman45ym\n"
     ]
    }
   ],
   "source": [
    "str1 = 'my23name45is'\n",
    "output = ''\n",
    "alphas = [ch for ch in reversed(str1) if ch.isalpha()]\n",
    "print(alphas)\n",
    "\n",
    "i=0\n",
    "for ch in str1:\n",
    "    if ch.isalpha():\n",
    "        output = output + alphas[i]\n",
    "        i += 1\n",
    "    else:\n",
    "        output = output + ch\n",
    "print(output)"
   ]
  },
  {
   "cell_type": "code",
   "execution_count": 74,
   "id": "12f0efaa",
   "metadata": {},
   "outputs": [
    {
     "name": "stdout",
     "output_type": "stream",
     "text": [
      "34\n"
     ]
    }
   ],
   "source": [
    "def fib(n):\n",
    "    if n==1: return 0\n",
    "    elif n==2: return 1\n",
    "    else: return fib(n-2)+fib(n-1)\n",
    "\n",
    "    \n",
    "x = fib(10)\n",
    "print(x)\n",
    "    \n"
   ]
  },
  {
   "cell_type": "code",
   "execution_count": 75,
   "id": "97039faa",
   "metadata": {},
   "outputs": [
    {
     "name": "stdout",
     "output_type": "stream",
     "text": [
      "0\n",
      "1\n",
      "1\n",
      "2\n",
      "3\n",
      "5\n",
      "8\n",
      "13\n",
      "21\n",
      "34\n"
     ]
    }
   ],
   "source": [
    "for i in range(1, 11):\n",
    "    print(fib(i))"
   ]
  },
  {
   "cell_type": "code",
   "execution_count": 1,
   "id": "91cc45b5",
   "metadata": {},
   "outputs": [
    {
     "data": {
      "text/plain": [
       "'C:\\\\Users\\\\lpdda'"
      ]
     },
     "execution_count": 1,
     "metadata": {},
     "output_type": "execute_result"
    }
   ],
   "source": [
    "import os\n",
    "os.getcwd()"
   ]
  },
  {
   "cell_type": "code",
   "execution_count": 3,
   "id": "661661ed",
   "metadata": {},
   "outputs": [
    {
     "name": "stdout",
     "output_type": "stream",
     "text": [
      "[2, 2, 3, 4, 5, 6, 6, 2, 2, 3, 4, 5, 6, 6, 3, 4, 5, 6, 6, 3, 4, 5, 6, 6, 4, 5, 6, 6, 5, 6, 6, 6, 6]\n"
     ]
    }
   ],
   "source": [
    "l=[1,1,2,2,3,4,5,6,6]\n",
    "def remove_dup(l):\n",
    "    uniq = []\n",
    "    dup = []\n",
    "    for i in range(len(l)):\n",
    "        for j in range(i+1, len(l)):\n",
    "            if (l[i] == l[j]):\n",
    "                dup.append(l[j])\n",
    "            else:\n",
    "                uniq.append(l[j])\n",
    "    return uniq\n",
    "\n",
    "x = remove_dup(l)\n",
    "print(x)\n",
    "    \n",
    "\n"
   ]
  },
  {
   "cell_type": "code",
   "execution_count": 16,
   "id": "e24038ff",
   "metadata": {},
   "outputs": [
    {
     "name": "stdout",
     "output_type": "stream",
     "text": [
      "[1, 2, 3, 4, 5]\n"
     ]
    }
   ],
   "source": [
    "def remove_dup(l):\n",
    "    uniq = []\n",
    "    dup = []\n",
    "    for i in range(len(l)-1):\n",
    "        if (l[i] == l[i+1]):\n",
    "                dup.append(l[i])\n",
    "        else:\n",
    "                uniq.append(l[i])\n",
    "    return uniq\n",
    "\n",
    "x = remove_dup(l)\n",
    "print(x)\n",
    "    "
   ]
  },
  {
   "cell_type": "code",
   "execution_count": 11,
   "id": "d0c36651",
   "metadata": {},
   "outputs": [
    {
     "name": "stdout",
     "output_type": "stream",
     "text": [
      "[1, 2, 3, 4, 5, 6]\n"
     ]
    }
   ],
   "source": [
    "def remove(l):\n",
    "    uniq=[]\n",
    "    s = set()\n",
    "    for item in l:\n",
    "        if item not in s:\n",
    "            uniq.append(item)\n",
    "            s.add(item)\n",
    "    return uniq\n",
    "x = remove(l)\n",
    "print(x)"
   ]
  },
  {
   "cell_type": "code",
   "execution_count": 17,
   "id": "3915b9fd",
   "metadata": {},
   "outputs": [
    {
     "ename": "SyntaxError",
     "evalue": "invalid syntax (2079782148.py, line 10)",
     "output_type": "error",
     "traceback": [
      "\u001b[1;36m  Cell \u001b[1;32mIn[17], line 10\u001b[1;36m\u001b[0m\n\u001b[1;33m    elif i < len(l) - 1 and l[i] = l[i+1]:\u001b[0m\n\u001b[1;37m                                 ^\u001b[0m\n\u001b[1;31mSyntaxError\u001b[0m\u001b[1;31m:\u001b[0m invalid syntax\n"
     ]
    }
   ],
   "source": [
    "def remove1(l):\n",
    "    if not l:\n",
    "        return []\n",
    "    \n",
    "    uniq=[]\n",
    "    dup = set()\n",
    "    for i in range(len(l)):\n",
    "        if l[i] in dup:\n",
    "            continue\n",
    "        elif i < len(l) - 1 and l[i] = l[i+1]:\n",
    "            dup.add(l[i])\n",
    "        else:\n",
    "            uniq.append(l[i])"
   ]
  },
  {
   "cell_type": "code",
   "execution_count": 21,
   "id": "012a9516",
   "metadata": {},
   "outputs": [
    {
     "name": "stdout",
     "output_type": "stream",
     "text": [
      "2\n"
     ]
    }
   ],
   "source": [
    "str1 = '200'\n",
    "str1_l = str1.split('0')\n",
    "print(''.join(str1_l))"
   ]
  },
  {
   "cell_type": "code",
   "execution_count": 26,
   "id": "0f351342",
   "metadata": {},
   "outputs": [
    {
     "name": "stdout",
     "output_type": "stream",
     "text": [
      "no palin\n"
     ]
    }
   ],
   "source": [
    "\n",
    "def palin(num):\n",
    "    str1= str(num)\n",
    "    for i in range(len(str1)):\n",
    "        if(str1[i] == str1[len(str1)-i-1]):\n",
    "            return 'num is palindrome'\n",
    "        else:\n",
    "            return 'no palin'\n",
    "\n",
    "num =122\n",
    "x = palin(num)\n",
    "print(x)\n"
   ]
  },
  {
   "cell_type": "code",
   "execution_count": 5,
   "id": "d849dd95",
   "metadata": {},
   "outputs": [
    {
     "name": "stdout",
     "output_type": "stream",
     "text": [
      "4a3b2c\n"
     ]
    }
   ],
   "source": [
    "\n",
    "str1 = 'aaaabbbccd'\n",
    "previous =str1[0]\n",
    "count = 0\n",
    "output = \"\"\n",
    "for ch in str1:\n",
    "    if ch == previous:\n",
    "        count += 1\n",
    "        \n",
    "    else:\n",
    "        output = output + str(count) + previous\n",
    "        count = 1\n",
    "        previous = ch\n",
    "print(output)\n",
    "        \n",
    "        \n",
    "        \n",
    "        \n",
    "        \n",
    "    "
   ]
  },
  {
   "cell_type": "code",
   "execution_count": 6,
   "id": "d7fcd265",
   "metadata": {},
   "outputs": [],
   "source": [
    "str1 = '4a3b2cd'\n"
   ]
  },
  {
   "cell_type": "code",
   "execution_count": 12,
   "id": "f052e69f",
   "metadata": {},
   "outputs": [
    {
     "name": "stdout",
     "output_type": "stream",
     "text": [
      "aaaabbbccd\n"
     ]
    }
   ],
   "source": [
    "str1 = '4a3b2cd'\n",
    "#'aaaabbbcc'\n",
    "output =\"\"\n",
    "num =\"\"\n",
    "\n",
    "for ch in str1:\n",
    "    if ch.isdigit():\n",
    "        num = num + ch\n",
    "    else:\n",
    "        if num:\n",
    "            output = output + ch * int(num)\n",
    "            num=\"\"\n",
    "        else:\n",
    "            output = output + ch\n",
    "print(output)"
   ]
  },
  {
   "cell_type": "code",
   "execution_count": 19,
   "id": "049a1d36",
   "metadata": {},
   "outputs": [
    {
     "name": "stdout",
     "output_type": "stream",
     "text": [
      "[1, 2, 3, 4, 5, 6, 7, 9]\n"
     ]
    }
   ],
   "source": [
    "#remove duplicates from list\n",
    "\n",
    "def rem_dup1(l):\n",
    "    res =[]\n",
    "    for num in l:\n",
    "        if num not in res:\n",
    "            res.append(num)\n",
    "    return res\n",
    "\n",
    "\n",
    "l = [1,1,1,2,2,3,4,5,6,7,5,9,9,1]\n",
    "x = rem_dup1(l)\n",
    "print(x)"
   ]
  },
  {
   "cell_type": "code",
   "execution_count": 21,
   "id": "cb8f117e",
   "metadata": {},
   "outputs": [
    {
     "name": "stdout",
     "output_type": "stream",
     "text": [
      "{1, 2, 3, 4, 5, 6, 7, 9}\n"
     ]
    }
   ],
   "source": [
    "\n",
    "def rem_dup1(l):\n",
    "    set1 =set()\n",
    "    for num in l:\n",
    "        if num not in set1:\n",
    "            set1.add(num)\n",
    "    return set1\n",
    "\n",
    "\n",
    "l = [1,1,1,2,2,3,4,5,6,7,5,9,9,1]\n",
    "x = rem_dup1(l)\n",
    "print(x)"
   ]
  },
  {
   "cell_type": "code",
   "execution_count": 23,
   "id": "1b5331de",
   "metadata": {},
   "outputs": [
    {
     "ename": "TypeError",
     "evalue": "'builtin_function_or_method' object is not subscriptable",
     "output_type": "error",
     "traceback": [
      "\u001b[1;31m---------------------------------------------------------------------------\u001b[0m",
      "\u001b[1;31mTypeError\u001b[0m                                 Traceback (most recent call last)",
      "Cell \u001b[1;32mIn[23], line 16\u001b[0m\n\u001b[0;32m     10\u001b[0m     \u001b[38;5;28;01mreturn\u001b[39;00m uniq\n\u001b[0;32m     15\u001b[0m l \u001b[38;5;241m=\u001b[39m [\u001b[38;5;241m1\u001b[39m,\u001b[38;5;241m1\u001b[39m,\u001b[38;5;241m1\u001b[39m,\u001b[38;5;241m2\u001b[39m,\u001b[38;5;241m2\u001b[39m,\u001b[38;5;241m3\u001b[39m,\u001b[38;5;241m4\u001b[39m,\u001b[38;5;241m5\u001b[39m,\u001b[38;5;241m6\u001b[39m,\u001b[38;5;241m7\u001b[39m,\u001b[38;5;241m5\u001b[39m,\u001b[38;5;241m9\u001b[39m,\u001b[38;5;241m9\u001b[39m,\u001b[38;5;241m1\u001b[39m]\n\u001b[1;32m---> 16\u001b[0m x \u001b[38;5;241m=\u001b[39m rem_dup2(l)\n\u001b[0;32m     17\u001b[0m \u001b[38;5;28mprint\u001b[39m(x)\n",
      "Cell \u001b[1;32mIn[23], line 7\u001b[0m, in \u001b[0;36mrem_dup2\u001b[1;34m(l)\u001b[0m\n\u001b[0;32m      5\u001b[0m \u001b[38;5;28;01mfor\u001b[39;00m j \u001b[38;5;129;01min\u001b[39;00m \u001b[38;5;28mrange\u001b[39m(i\u001b[38;5;241m+\u001b[39m\u001b[38;5;241m1\u001b[39m,\u001b[38;5;28mlen\u001b[39m(l)):\n\u001b[0;32m      6\u001b[0m     \u001b[38;5;28;01mif\u001b[39;00m l[i] \u001b[38;5;241m==\u001b[39m l[j]:\n\u001b[1;32m----> 7\u001b[0m         dup\u001b[38;5;241m.\u001b[39mappend[l[i]]\n\u001b[0;32m      8\u001b[0m     \u001b[38;5;28;01melse\u001b[39;00m:\n\u001b[0;32m      9\u001b[0m         uniq\u001b[38;5;241m.\u001b[39mappend(l[i])\n",
      "\u001b[1;31mTypeError\u001b[0m: 'builtin_function_or_method' object is not subscriptable"
     ]
    }
   ],
   "source": [
    "def rem_dup2(l):\n",
    "    uniq=[]\n",
    "    dup =[]\n",
    "    for i in range(len(l)):\n",
    "        for j in range(i+1,len(l)):\n",
    "            if l[i] == l[j]:\n",
    "                dup.append[l[i]]\n",
    "            else:\n",
    "                uniq.append(l[i])\n",
    "    return uniq\n",
    "   \n",
    "   \n",
    "\n",
    "\n",
    "l = [1,1,1,2,2,3,4,5,6,7,5,9,9,1]\n",
    "x = rem_dup2(l)\n",
    "print(x)"
   ]
  },
  {
   "cell_type": "code",
   "execution_count": 2,
   "id": "e305f112",
   "metadata": {},
   "outputs": [
    {
     "name": "stdout",
     "output_type": "stream",
     "text": [
      "[4, 3, 2, 1]\n"
     ]
    }
   ],
   "source": [
    "i ='bbbbaaaccd'\n",
    "#o=[4,3,2,1]\n",
    "\n",
    "def count_str(str1:str)->list:\n",
    "    count = 1\n",
    "    l = []\n",
    "    for i in range(1,len(str1)):\n",
    "        if (str1[i]== str1[i-1]):\n",
    "            count +=1\n",
    "        else:\n",
    "            l.append(count)\n",
    "            count = 1\n",
    "    l.append(count)\n",
    "    return l\n",
    "\n",
    "print(count_str(i))\n",
    "        "
   ]
  },
  {
   "cell_type": "code",
   "execution_count": 7,
   "id": "d25cf33c",
   "metadata": {},
   "outputs": [
    {
     "name": "stdout",
     "output_type": "stream",
     "text": [
      "[101, 103, 107, 109, 113, 127, 131, 137, 139, 149, 151, 157, 163, 167, 173, 179, 181, 191, 193, 197, 199]\n"
     ]
    }
   ],
   "source": [
    "def prime1(lower, upper):\n",
    "    primes=[]\n",
    "    for num in range(lower, upper+1):\n",
    "        if num>1:\n",
    "            is_prime = True\n",
    "            for i in range(2, int(num ** 0.5)+1):\n",
    "                if num%i==0:\n",
    "                    is_prime = False\n",
    "                    break\n",
    "            if is_prime:\n",
    "                primes.append(num)\n",
    "    return primes\n",
    "\n",
    "x = prime1(100, 200)\n",
    "print(x)\n",
    "        "
   ]
  },
  {
   "cell_type": "code",
   "execution_count": 8,
   "id": "cabc01d9",
   "metadata": {},
   "outputs": [
    {
     "name": "stdout",
     "output_type": "stream",
     "text": [
      "101\n",
      "103\n",
      "107\n",
      "109\n",
      "113\n",
      "127\n",
      "131\n",
      "137\n",
      "139\n",
      "149\n",
      "151\n",
      "157\n",
      "163\n",
      "167\n",
      "173\n",
      "179\n",
      "181\n",
      "191\n",
      "193\n",
      "197\n",
      "199\n"
     ]
    }
   ],
   "source": [
    "for num in range(100, 200):\n",
    "    if all(num%i!=0 for i in range(2, num)):\n",
    "        print(num)"
   ]
  },
  {
   "cell_type": "code",
   "execution_count": 14,
   "id": "b4fd6592",
   "metadata": {},
   "outputs": [
    {
     "name": "stdout",
     "output_type": "stream",
     "text": [
      "101\n",
      "103\n",
      "107\n",
      "109\n",
      "113\n",
      "127\n",
      "131\n",
      "137\n",
      "139\n",
      "149\n",
      "151\n",
      "157\n",
      "163\n",
      "167\n",
      "173\n",
      "179\n",
      "181\n",
      "191\n",
      "193\n",
      "197\n",
      "199\n"
     ]
    }
   ],
   "source": [
    "for num in range(100, 200):\n",
    "    is_prime = True\n",
    "    for i in range(2, num):\n",
    "        if (num%i==0):\n",
    "            is_prime = False\n",
    "            break\n",
    "    if is_prime:\n",
    "        print(num)\n",
    "            \n",
    "   "
   ]
  },
  {
   "cell_type": "code",
   "execution_count": 15,
   "id": "e8e49c5b",
   "metadata": {},
   "outputs": [
    {
     "name": "stdout",
     "output_type": "stream",
     "text": [
      "[0, 3, 4, 7, 8, 22, 23, 100]\n"
     ]
    }
   ],
   "source": [
    "\n",
    "l=[3,4,100, 8,23,0,22,7]\n",
    "\n",
    "for i in range(len(l)):\n",
    "    for j in range(i+1, len(l)):\n",
    "        if l[j]< l[i]:\n",
    "            temp = l[i]\n",
    "            l[i] = l[j]\n",
    "            l[j] = temp\n",
    "            \n",
    "print(l)"
   ]
  },
  {
   "cell_type": "code",
   "execution_count": 26,
   "id": "a53c0186",
   "metadata": {},
   "outputs": [
    {
     "name": "stdout",
     "output_type": "stream",
     "text": [
      "[0, 3, 4, 7, 8, 22, 23, 100]\n"
     ]
    }
   ],
   "source": [
    "l=[3,4,100, 8,23,0,22,7]\n",
    "l1=[]\n",
    "\n",
    "for i in range(len(l)):\n",
    "    \n",
    "    min1 = min(l)\n",
    "    l1.append(min1)\n",
    "    l.remove(min1)\n",
    "print(l1)"
   ]
  },
  {
   "cell_type": "code",
   "execution_count": 17,
   "id": "aa61ae51",
   "metadata": {},
   "outputs": [
    {
     "name": "stdout",
     "output_type": "stream",
     "text": [
      "[4, 8, 0, 7]\n"
     ]
    }
   ],
   "source": []
  },
  {
   "cell_type": "code",
   "execution_count": 21,
   "id": "ad6ff3ba",
   "metadata": {},
   "outputs": [
    {
     "data": {
      "text/plain": [
       "[3, 4, 100, 8, 23, 0, 7]"
      ]
     },
     "execution_count": 21,
     "metadata": {},
     "output_type": "execute_result"
    }
   ],
   "source": []
  },
  {
   "cell_type": "code",
   "execution_count": 24,
   "id": "e9a64b46",
   "metadata": {},
   "outputs": [
    {
     "data": {
      "text/plain": [
       "[3, 4, 100, 8, 23, 22, 7]"
      ]
     },
     "execution_count": 24,
     "metadata": {},
     "output_type": "execute_result"
    }
   ],
   "source": []
  },
  {
   "cell_type": "code",
   "execution_count": 1,
   "id": "98971822",
   "metadata": {},
   "outputs": [
    {
     "name": "stdout",
     "output_type": "stream",
     "text": [
      "<reversed object at 0x000002735A46CCD0>\n"
     ]
    }
   ],
   "source": [
    "str1 = 'my23name45is'\n",
    "\n",
    "res = reversed(str1)\n",
    "print(res)"
   ]
  },
  {
   "cell_type": "code",
   "execution_count": 3,
   "id": "223506ee",
   "metadata": {},
   "outputs": [
    {
     "name": "stdout",
     "output_type": "stream",
     "text": [
      "['s', 'i', 'e', 'm', 'a', 'n', 'y', 'm']\n"
     ]
    }
   ],
   "source": [
    "res = [ch for ch in reversed(str1) if ch.isalpha() ]\n",
    "print(res)"
   ]
  },
  {
   "cell_type": "code",
   "execution_count": 7,
   "id": "b77b335d",
   "metadata": {},
   "outputs": [
    {
     "name": "stdout",
     "output_type": "stream",
     "text": [
      "['s', 'i', 'e', 'm', 'a', 'n', 'y', 'm']\n",
      "si23eman45ym\n"
     ]
    }
   ],
   "source": [
    "output = ''\n",
    "str1 = 'my23name45is'\n",
    "res = [ch for ch in reversed(str1) if ch.isalpha() ]\n",
    "print(res)\n",
    "\n",
    "\n",
    "i = 0\n",
    "for ch in str1:\n",
    "    if ch.isalpha():\n",
    "        output = output + res[i]\n",
    "        i +=1\n",
    "    else:\n",
    "        output = output + ch\n",
    "print(output)\n",
    "        \n",
    "        "
   ]
  },
  {
   "cell_type": "code",
   "execution_count": 39,
   "id": "3afc3d86",
   "metadata": {},
   "outputs": [
    {
     "name": "stdout",
     "output_type": "stream",
     "text": [
      "4a3b2c\n"
     ]
    }
   ],
   "source": [
    "str1 = 'aaaabbbccd'\n",
    "\n",
    "previous = str1[0]\n",
    "count = 0\n",
    "output = ''\n",
    "for ch in str1:\n",
    "    if ch == previous:\n",
    "        count = count + 1\n",
    "         \n",
    "    else:\n",
    "        output = output +  str(count) + previous\n",
    "        count = 1\n",
    "        previous = ch\n",
    "print(output)\n",
    "        \n",
    "        \n",
    "        "
   ]
  },
  {
   "cell_type": "code",
   "execution_count": 38,
   "id": "93e2710a",
   "metadata": {},
   "outputs": [
    {
     "name": "stdout",
     "output_type": "stream",
     "text": [
      "4a3b2c1d\n"
     ]
    }
   ],
   "source": [
    "str1 = 'aaaabbbccd'\n",
    "\n",
    "previous = str1[0]\n",
    "count = 0\n",
    "output = \"\"\n",
    "\n",
    "for ch in str1:\n",
    "    if ch == previous:\n",
    "        count += 1\n",
    "    else:\n",
    "        output += str(count) + previous\n",
    "        count = 1\n",
    "    previous = ch\n",
    "\n",
    "# Add the last sequence to the output\n",
    "output += str(count) + previous\n",
    "\n",
    "print(output)\n"
   ]
  },
  {
   "cell_type": "code",
   "execution_count": 8,
   "id": "a26aef2c",
   "metadata": {},
   "outputs": [
    {
     "name": "stdout",
     "output_type": "stream",
     "text": [
      "{'a': 4, 'b': 3, 'c': 2, 'd': 1}\n"
     ]
    }
   ],
   "source": [
    "str1 = 'aaaabbbccd'\n",
    "\n",
    "d ={}\n",
    "for ch in str1:\n",
    "    if ch in d:\n",
    "        d[ch] += 1\n",
    "    else:\n",
    "        d[ch] = 1\n",
    "print(d)"
   ]
  },
  {
   "cell_type": "code",
   "execution_count": 19,
   "id": "49d911e0",
   "metadata": {},
   "outputs": [
    {
     "name": "stdout",
     "output_type": "stream",
     "text": [
      "['a', 'b', 'c', 'd']\n"
     ]
    }
   ],
   "source": [
    "res1 =[]\n",
    "for k in d:\n",
    "    res1.append(k)\n",
    "    \n",
    "print(res1)"
   ]
  },
  {
   "cell_type": "code",
   "execution_count": 22,
   "id": "539658ff",
   "metadata": {},
   "outputs": [
    {
     "name": "stdout",
     "output_type": "stream",
     "text": [
      "['4', '3', '2', '1']\n"
     ]
    }
   ],
   "source": [
    "res2 = []\n",
    "for v in d.values():\n",
    "    res2.append(str(v))\n",
    "print(res2)"
   ]
  },
  {
   "cell_type": "code",
   "execution_count": 27,
   "id": "ad536da8",
   "metadata": {},
   "outputs": [
    {
     "name": "stdout",
     "output_type": "stream",
     "text": [
      "4a3b2c1d\n"
     ]
    }
   ],
   "source": [
    "output = []\n",
    "for x, y in zip(res1, res2):\n",
    "    output.append(y+x)\n",
    "print(''.join(output))"
   ]
  },
  {
   "cell_type": "code",
   "execution_count": 29,
   "id": "8c796ae8",
   "metadata": {},
   "outputs": [
    {
     "name": "stdout",
     "output_type": "stream",
     "text": [
      "count of a :  4\n",
      "count of a :  3\n",
      "count of a :  2\n",
      "count of a :  1\n"
     ]
    }
   ],
   "source": [
    "str1 = 'aaaabbbccd'\n",
    "count_a = 0\n",
    "count_b = 0\n",
    "count_c = 0\n",
    "count_d = 0\n",
    "for ch in str1:\n",
    "    if ch == 'a':\n",
    "        count_a += 1\n",
    "    elif ch == 'b':\n",
    "        count_b += 1\n",
    "    elif ch == 'c':\n",
    "        count_c += 1\n",
    "    elif ch == 'd':\n",
    "        count_d += 1\n",
    "print(f\"count of a : \",count_a)\n",
    "print(f\"count of a : \",count_b)\n",
    "print(f\"count of a : \",count_c)\n",
    "print(f\"count of a : \",count_d)\n",
    "\n",
    "        \n",
    "    "
   ]
  },
  {
   "cell_type": "code",
   "execution_count": 3,
   "id": "75ffebb3",
   "metadata": {},
   "outputs": [
    {
     "name": "stdout",
     "output_type": "stream",
     "text": [
      "geekcoders hello\n"
     ]
    }
   ],
   "source": [
    "str1 = \"geekcoders geekcoders hello\"\n",
    "\n",
    "uniq=[]\n",
    "\n",
    "for word in str1.split():\n",
    "    if word not in uniq:\n",
    "        uniq.append(word)\n",
    "print(' '.join(uniq))\n",
    "        \n",
    "\n",
    "\n",
    "\n"
   ]
  },
  {
   "cell_type": "code",
   "execution_count": 4,
   "id": "ca2f5a59",
   "metadata": {},
   "outputs": [
    {
     "name": "stdout",
     "output_type": "stream",
     "text": [
      "{'geekcoders': 2, 'hello': 1}\n"
     ]
    }
   ],
   "source": [
    "\n",
    "d ={}\n",
    "for ch in str1.split():\n",
    "    if ch in d:\n",
    "        d[ch] += 1\n",
    "    else:\n",
    "        d[ch] = 1\n",
    "print(d)"
   ]
  },
  {
   "cell_type": "code",
   "execution_count": 9,
   "id": "b27638b9",
   "metadata": {},
   "outputs": [
    {
     "name": "stdout",
     "output_type": "stream",
     "text": [
      "geekcoders\n",
      "hello\n"
     ]
    }
   ],
   "source": [
    "\n",
    "for k in d:\n",
    "    print(k)\n",
    "   \n",
    "        \n"
   ]
  },
  {
   "cell_type": "code",
   "execution_count": 13,
   "id": "a9ac9226",
   "metadata": {},
   "outputs": [
    {
     "ename": "TypeError",
     "evalue": "tuple expected at most 1 argument, got 2",
     "output_type": "error",
     "traceback": [
      "\u001b[1;31m---------------------------------------------------------------------------\u001b[0m",
      "\u001b[1;31mTypeError\u001b[0m                                 Traceback (most recent call last)",
      "Cell \u001b[1;32mIn[13], line 12\u001b[0m\n\u001b[0;32m     10\u001b[0m \u001b[38;5;28;01mfor\u001b[39;00m k,v \u001b[38;5;129;01min\u001b[39;00m my_map\u001b[38;5;241m.\u001b[39mitems():\n\u001b[0;32m     11\u001b[0m     \u001b[38;5;28;01mif\u001b[39;00m v\u001b[38;5;241m>\u001b[39m\u001b[38;5;241m100\u001b[39m:\n\u001b[1;32m---> 12\u001b[0m         \u001b[38;5;28mprint\u001b[39m(\u001b[38;5;28mtuple\u001b[39m(k,v))\n",
      "\u001b[1;31mTypeError\u001b[0m: tuple expected at most 1 argument, got 2"
     ]
    }
   ],
   "source": [
    "my_map = {\n",
    "    'a':150,\n",
    "    \n",
    "    'b':75,\n",
    "    'c':200,\n",
    "    'd':50,\n",
    "    'e':300\n",
    "}\n",
    "\n",
    "for k,v in my_map.items():\n",
    "    if v>100:\n",
    "        print(tuple(k,v))"
   ]
  },
  {
   "cell_type": "code",
   "execution_count": 1,
   "id": "23ff1780",
   "metadata": {},
   "outputs": [
    {
     "ename": "NameError",
     "evalue": "name 'my_map' is not defined",
     "output_type": "error",
     "traceback": [
      "\u001b[1;31m---------------------------------------------------------------------------\u001b[0m",
      "\u001b[1;31mNameError\u001b[0m                                 Traceback (most recent call last)",
      "Cell \u001b[1;32mIn[1], line 1\u001b[0m\n\u001b[1;32m----> 1\u001b[0m [k \u001b[38;5;28;01mfor\u001b[39;00m k,v \u001b[38;5;129;01min\u001b[39;00m my_map\u001b[38;5;241m.\u001b[39mitems() \u001b[38;5;28;01mif\u001b[39;00m v\u001b[38;5;241m>\u001b[39m\u001b[38;5;241m100\u001b[39m]\n",
      "\u001b[1;31mNameError\u001b[0m: name 'my_map' is not defined"
     ]
    }
   ],
   "source": [
    "[k for k,v in my_map.items() if v>100]"
   ]
  },
  {
   "cell_type": "code",
   "execution_count": 10,
   "id": "f6bc3db4",
   "metadata": {},
   "outputs": [
    {
     "name": "stdout",
     "output_type": "stream",
     "text": [
      "[2, 4, 6, 14]\n"
     ]
    }
   ],
   "source": [
    "l1 = [1,2,3,4,5,6,7,10,12,14,17,19,20]\n",
    "res = []\n",
    "for i in range(1,len(l1)):\n",
    "    if l1[i]%2!=0 and l1[i-1]%2==0:\n",
    "        res.append(l1[i-1])\n",
    "print(res)"
   ]
  },
  {
   "cell_type": "code",
   "execution_count": 11,
   "id": "9fa2c520",
   "metadata": {},
   "outputs": [
    {
     "ename": "SyntaxError",
     "evalue": "invalid syntax (2708775493.py, line 1)",
     "output_type": "error",
     "traceback": [
      "\u001b[1;36m  Cell \u001b[1;32mIn[11], line 1\u001b[1;36m\u001b[0m\n\u001b[1;33m    str1 =\u001b[0m\n\u001b[1;37m           ^\u001b[0m\n\u001b[1;31mSyntaxError\u001b[0m\u001b[1;31m:\u001b[0m invalid syntax\n"
     ]
    }
   ],
   "source": [
    "str1 = "
   ]
  },
  {
   "cell_type": "code",
   "execution_count": 16,
   "id": "4b853717",
   "metadata": {},
   "outputs": [
    {
     "name": "stdout",
     "output_type": "stream",
     "text": [
      "pyth n\n"
     ]
    }
   ],
   "source": [
    "str1 = \"python\"\n",
    "ch = \"o\"\n",
    "str2 = str1.replace(ch, \" \")\n",
    "print(str2)"
   ]
  },
  {
   "cell_type": "code",
   "execution_count": 18,
   "id": "75d2a59e",
   "metadata": {},
   "outputs": [
    {
     "name": "stdout",
     "output_type": "stream",
     "text": [
      "no pali\n"
     ]
    }
   ],
   "source": [
    "str1 = \"madama\"\n",
    "\n",
    "if (str1 == str1[::-1]):\n",
    "    print(\"pali\")\n",
    "else: \n",
    "    print(\"no pali\")"
   ]
  },
  {
   "cell_type": "code",
   "execution_count": 19,
   "id": "eb476339",
   "metadata": {},
   "outputs": [
    {
     "name": "stdout",
     "output_type": "stream",
     "text": [
      "ahsiras\n"
     ]
    }
   ],
   "source": [
    "str1 = \"sarisha\"\n",
    "res = \"\"\n",
    "for ch in str1:\n",
    "    res = ch + res\n",
    "print(res)"
   ]
  },
  {
   "cell_type": "code",
   "execution_count": 22,
   "id": "9dab79fb",
   "metadata": {},
   "outputs": [
    {
     "name": "stdout",
     "output_type": "stream",
     "text": [
      "ahsiras\n"
     ]
    }
   ],
   "source": [
    "output = \"\"\n",
    "for i in range(len(str1)-1,-1,-1):\n",
    "    output = output + str1[i]\n",
    "print(output)"
   ]
  },
  {
   "cell_type": "code",
   "execution_count": 33,
   "id": "2233ef06",
   "metadata": {},
   "outputs": [
    {
     "name": "stdout",
     "output_type": "stream",
     "text": [
      "['from', 'Learning']\n"
     ]
    }
   ],
   "source": [
    "str1 = \"Geeks for Geeks\"\n",
    "str2 = \"Learning from Geeks for Geeks\"\n",
    "str1 = str1.split()\n",
    "str2 = str2.split()\n",
    "res = []\n",
    "\n",
    "for i in str1:\n",
    "    if i not in str2:\n",
    "        res.append(i)\n",
    "for j in str2:\n",
    "    if j not in str1:\n",
    "        res.append(j)\n",
    "x = list(set(res))\n",
    "\n",
    "print(x)\n"
   ]
  },
  {
   "cell_type": "code",
   "execution_count": 30,
   "id": "9a7a22f2",
   "metadata": {},
   "outputs": [
    {
     "name": "stdout",
     "output_type": "stream",
     "text": [
      "{'Geeks': 2, 'for': 1}\n"
     ]
    }
   ],
   "source": [
    " count = {}\n",
    " str1 = \"Geeks for Geeks\"\n",
    "    # insert words of string A to hash\n",
    "for word in str1.split():\n",
    "    count[word] = count.get(word, 0) + 1\n",
    "print(count)"
   ]
  },
  {
   "cell_type": "code",
   "execution_count": 38,
   "id": "ed0634eb",
   "metadata": {},
   "outputs": [
    {
     "name": "stdout",
     "output_type": "stream",
     "text": [
      "{'Geeks': 4, 'for': 2, 'Learning': 1, 'from': 1}\n"
     ]
    }
   ],
   "source": [
    "\n",
    "A = \"Geeks for Geeks\"\n",
    "B = \"Learning from Geeks for Geeks\"\n",
    "count = {}\n",
    " \n",
    "# insert words of string A to hash\n",
    "for word in A.split():\n",
    "    count[word] = count.get(word, 0) + 1\n",
    "\n",
    "# insert words of string B to hash\n",
    "for word in B.split():\n",
    "    count[word] = count.get(word, 0) + 1\n",
    "print(count)"
   ]
  },
  {
   "cell_type": "code",
   "execution_count": 49,
   "id": "6e2de847",
   "metadata": {},
   "outputs": [
    {
     "name": "stdout",
     "output_type": "stream",
     "text": [
      "symmetry\n"
     ]
    }
   ],
   "source": [
    "str1 = 'khokho'\n",
    "\n",
    "def symmetry(str1):\n",
    "    mid = (len(str1))//2\n",
    "    start1 = 0\n",
    "    start2 = mid \n",
    "    last = len(str1)\n",
    "    flag = 0\n",
    "    \n",
    "    while start1<mid and start2<last:\n",
    "        if str1[start1] == str1[start2]:\n",
    "            start1 = start1 + 1\n",
    "            start2 = start2 + 1\n",
    "        else:\n",
    "            flag = 1\n",
    "            break \n",
    "    if flag == 0:\n",
    "        return \"symmetry\"\n",
    "    else:\n",
    "        return \"no no symmerty\"\n",
    "            \n",
    "        \n",
    "\n",
    "print(symmetry(str1))\n",
    "\n"
   ]
  },
  {
   "cell_type": "code",
   "execution_count": 47,
   "id": "eddeae5e",
   "metadata": {},
   "outputs": [
    {
     "name": "stdout",
     "output_type": "stream",
     "text": [
      "symmetry\n"
     ]
    }
   ],
   "source": [
    "str1 = 'khokho'\n",
    "\n",
    "def symmetry(str1):\n",
    "    mid = len(str1) // 2\n",
    "    start1 = 0\n",
    "    start2 = mid\n",
    "    \n",
    "#     if len(str1) % 2 != 0:\n",
    "#         start2 += 1\n",
    "    \n",
    "    flag = 0\n",
    "\n",
    "    while start1 < mid and start2 < len(str1):\n",
    "        if str1[start1] == str1[start2]:\n",
    "            start1 += 1\n",
    "            start2 += 1\n",
    "        else:\n",
    "            flag = 1\n",
    "            break \n",
    "\n",
    "    if flag == 0:\n",
    "        return \"symmetry\"\n",
    "    else:\n",
    "        return \"no symmetry\"\n",
    "            \n",
    "print(symmetry(str1))\n"
   ]
  },
  {
   "cell_type": "code",
   "execution_count": 53,
   "id": "13f4c511",
   "metadata": {},
   "outputs": [
    {
     "name": "stdout",
     "output_type": "stream",
     "text": [
      "3\n"
     ]
    }
   ],
   "source": [
    "test_str = \"geeks4feeks is No. 1 4 geeks\"\n",
    "\n",
    "x = sum(map(str.isdigit, test_str))\n",
    "\n",
    "print(x)"
   ]
  },
  {
   "cell_type": "code",
   "execution_count": 55,
   "id": "e843e5b7",
   "metadata": {},
   "outputs": [
    {
     "data": {
      "text/plain": [
       "['4', '1', '4']"
      ]
     },
     "execution_count": 55,
     "metadata": {},
     "output_type": "execute_result"
    }
   ],
   "source": [
    "list(filter(lambda x: x.isdigit(), test_str))"
   ]
  },
  {
   "cell_type": "code",
   "execution_count": 69,
   "id": "667cb99c",
   "metadata": {},
   "outputs": [
    {
     "data": {
      "text/plain": [
       "['H', 'E', 'L', 'L', 'O']"
      ]
     },
     "execution_count": 69,
     "metadata": {},
     "output_type": "execute_result"
    }
   ],
   "source": [
    "sr1 = \"hello\"\n",
    "\n",
    "list(map(ord, sr1))\n",
    "list(map(str.upper, sr1))"
   ]
  },
  {
   "cell_type": "code",
   "execution_count": 64,
   "id": "dcb639c9",
   "metadata": {},
   "outputs": [
    {
     "data": {
      "text/plain": [
       "['hello', 'world', 'python']"
      ]
     },
     "execution_count": 64,
     "metadata": {},
     "output_type": "execute_result"
    }
   ],
   "source": [
    "str1 = [\"hello\", \"world\", \"python\"]\n",
    "\n",
    "list(map(str.upper, str1))\n",
    "list(map(str.lower, str1))\n",
    "list(map(str.casefold, str1))"
   ]
  },
  {
   "cell_type": "code",
   "execution_count": 71,
   "id": "2505d440",
   "metadata": {},
   "outputs": [
    {
     "data": {
      "text/plain": [
       "['hellolpd', 'worldlpd', 'pythonlpd']"
      ]
     },
     "execution_count": 71,
     "metadata": {},
     "output_type": "execute_result"
    }
   ],
   "source": [
    "suffix = \"lpd\"\n",
    "list(map(lambda s: s+ suffix, str1))"
   ]
  },
  {
   "cell_type": "code",
   "execution_count": 72,
   "id": "51109762",
   "metadata": {},
   "outputs": [
    {
     "data": {
      "text/plain": [
       "[1, 4, 9, 16, 25]"
      ]
     },
     "execution_count": 72,
     "metadata": {},
     "output_type": "execute_result"
    }
   ],
   "source": [
    "list1 = [1, 2, 3, 4, 5]\n",
    "\n",
    "list(map(lambda x: x**2, list1))"
   ]
  },
  {
   "cell_type": "code",
   "execution_count": 73,
   "id": "4b67ceb5",
   "metadata": {},
   "outputs": [
    {
     "data": {
      "text/plain": [
       "[5, 7, 9]"
      ]
     },
     "execution_count": 73,
     "metadata": {},
     "output_type": "execute_result"
    }
   ],
   "source": [
    "list1 = [1, 2, 3]\n",
    "list2 = [4, 5, 6]\n",
    "\n",
    "list(map(lambda x,y: x+y, list1, list2))"
   ]
  },
  {
   "cell_type": "code",
   "execution_count": 74,
   "id": "4c50b94e",
   "metadata": {},
   "outputs": [
    {
     "data": {
      "text/plain": [
       "[1, 2, 3, 4, 5]"
      ]
     },
     "execution_count": 74,
     "metadata": {},
     "output_type": "execute_result"
    }
   ],
   "source": [
    "numbers = [-1, -2, -3, 4, 5]\n",
    "\n",
    "list(map(abs, numbers))"
   ]
  },
  {
   "cell_type": "code",
   "execution_count": 75,
   "id": "4a646e0c",
   "metadata": {},
   "outputs": [
    {
     "data": {
      "text/plain": [
       "[1, 2, 3, 4]"
      ]
     },
     "execution_count": 75,
     "metadata": {},
     "output_type": "execute_result"
    }
   ],
   "source": [
    "floats = [1.2, 2.5, 3.7, 4.4]\n",
    "list(map(int, floats))"
   ]
  },
  {
   "cell_type": "code",
   "execution_count": 76,
   "id": "184687b6",
   "metadata": {},
   "outputs": [
    {
     "data": {
      "text/plain": [
       "[4, 10, 18]"
      ]
     },
     "execution_count": 76,
     "metadata": {},
     "output_type": "execute_result"
    }
   ],
   "source": [
    "list(map(lambda x,y: x*y, list1, list2))"
   ]
  },
  {
   "cell_type": "code",
   "execution_count": 79,
   "id": "178dff16",
   "metadata": {},
   "outputs": [
    {
     "name": "stdout",
     "output_type": "stream",
     "text": [
      "[1, 2, [7, 9], [15, [12, 9]], 18, 10]\n"
     ]
    },
    {
     "ename": "TypeError",
     "evalue": "'int' object is not iterable",
     "output_type": "error",
     "traceback": [
      "\u001b[1;31m---------------------------------------------------------------------------\u001b[0m",
      "\u001b[1;31mTypeError\u001b[0m                                 Traceback (most recent call last)",
      "Cell \u001b[1;32mIn[79], line 4\u001b[0m\n\u001b[0;32m      1\u001b[0m l\u001b[38;5;241m=\u001b[39m[\u001b[38;5;241m1\u001b[39m,\u001b[38;5;241m2\u001b[39m,[\u001b[38;5;241m7\u001b[39m,\u001b[38;5;241m9\u001b[39m],[\u001b[38;5;241m15\u001b[39m,[\u001b[38;5;241m12\u001b[39m,\u001b[38;5;241m9\u001b[39m]],\u001b[38;5;241m18\u001b[39m,\u001b[38;5;241m10\u001b[39m]\n\u001b[0;32m      2\u001b[0m \u001b[38;5;28mprint\u001b[39m(l)\n\u001b[1;32m----> 4\u001b[0m res \u001b[38;5;241m=\u001b[39m [ele \u001b[38;5;28;01mfor\u001b[39;00m sub \u001b[38;5;129;01min\u001b[39;00m l \u001b[38;5;28;01mfor\u001b[39;00m ele \u001b[38;5;129;01min\u001b[39;00m sub]\n\u001b[0;32m      5\u001b[0m \u001b[38;5;28mprint\u001b[39m(res)\n",
      "Cell \u001b[1;32mIn[79], line 4\u001b[0m, in \u001b[0;36m<listcomp>\u001b[1;34m(.0)\u001b[0m\n\u001b[0;32m      1\u001b[0m l\u001b[38;5;241m=\u001b[39m[\u001b[38;5;241m1\u001b[39m,\u001b[38;5;241m2\u001b[39m,[\u001b[38;5;241m7\u001b[39m,\u001b[38;5;241m9\u001b[39m],[\u001b[38;5;241m15\u001b[39m,[\u001b[38;5;241m12\u001b[39m,\u001b[38;5;241m9\u001b[39m]],\u001b[38;5;241m18\u001b[39m,\u001b[38;5;241m10\u001b[39m]\n\u001b[0;32m      2\u001b[0m \u001b[38;5;28mprint\u001b[39m(l)\n\u001b[1;32m----> 4\u001b[0m res \u001b[38;5;241m=\u001b[39m [ele \u001b[38;5;28;01mfor\u001b[39;00m sub \u001b[38;5;129;01min\u001b[39;00m l \u001b[38;5;28;01mfor\u001b[39;00m ele \u001b[38;5;129;01min\u001b[39;00m sub]\n\u001b[0;32m      5\u001b[0m \u001b[38;5;28mprint\u001b[39m(res)\n",
      "\u001b[1;31mTypeError\u001b[0m: 'int' object is not iterable"
     ]
    }
   ],
   "source": [
    "l=[1,2,[7,9],[15,[12,9]],18,10]\n",
    "print(l)\n",
    "\n",
    "res = [ele for sub in l for ele in sub]\n",
    "print(res)"
   ]
  },
  {
   "cell_type": "code",
   "execution_count": 1,
   "id": "a04c2895",
   "metadata": {},
   "outputs": [
    {
     "name": "stdout",
     "output_type": "stream",
     "text": [
      "[1, 2, 7, 9, 15, 12, 9, 18, 10]\n"
     ]
    }
   ],
   "source": [
    "l = [1, 2, [7, 9], [15, [12, 9]], 18, 10]\n",
    "\n",
    "def flatten(l):\n",
    "    res=[]\n",
    "    for item in l:\n",
    "        if isinstance(item, list):\n",
    "            res.extend(flatten(item))\n",
    "        else:\n",
    "            res.append(item)\n",
    "    return res\n",
    "\n",
    "final = flatten(l)\n",
    "print(final)"
   ]
  },
  {
   "cell_type": "code",
   "execution_count": 2,
   "id": "fdc2e79c",
   "metadata": {},
   "outputs": [
    {
     "name": "stdout",
     "output_type": "stream",
     "text": [
      "('David', 46)\n",
      "('Sam', 56)\n",
      "('Sagar', 90)\n"
     ]
    }
   ],
   "source": [
    "l = [('David',46), ('Sam',56), ('Sagar',90)]\n",
    "\n",
    "for item in l:\n",
    "    print(item)\n"
   ]
  },
  {
   "cell_type": "code",
   "execution_count": 5,
   "id": "e024333e",
   "metadata": {},
   "outputs": [
    {
     "data": {
      "text/plain": [
       "[46, 56, 90]"
      ]
     },
     "execution_count": 5,
     "metadata": {},
     "output_type": "execute_result"
    }
   ],
   "source": [
    "res =[marks for name, marks in l]\n",
    "res"
   ]
  },
  {
   "cell_type": "code",
   "execution_count": 12,
   "id": "9e792250",
   "metadata": {},
   "outputs": [
    {
     "name": "stdout",
     "output_type": "stream",
     "text": [
      "[4, 3, 2, 1]\n"
     ]
    }
   ],
   "source": [
    "str1 = \"bbbbcccaad\"\n",
    "# res = [4,3,2,1]\n",
    "def count(str1):\n",
    "    previous = str1[0]\n",
    "    res =[]\n",
    "    count = 0\n",
    "    for ch in str1:\n",
    "        if ch == previous:\n",
    "            count = count + 1\n",
    "            \n",
    "            \n",
    "        else:\n",
    "            res.append(count)\n",
    "            \n",
    "            previous = ch\n",
    "            count = 1\n",
    "    res.append(count)\n",
    "    return res\n",
    "\n",
    "final = count(str1)\n",
    "print(final)\n",
    "            \n",
    "            \n",
    "        \n"
   ]
  },
  {
   "cell_type": "code",
   "execution_count": 17,
   "id": "995821ac",
   "metadata": {},
   "outputs": [
    {
     "name": "stdout",
     "output_type": "stream",
     "text": [
      "[4, 3, 2, 1]\n"
     ]
    }
   ],
   "source": [
    "def stringCount(str1):\n",
    "    count = 1\n",
    "    res =[]\n",
    "    for i in range(1, len(str1)):\n",
    "        if str1[i]==str1[i-1]:\n",
    "            count = count + 1\n",
    "        else:\n",
    "            res.append(count)\n",
    "            count = 1\n",
    "    res.append(count)\n",
    "    return res\n",
    "\n",
    "fin = stringCount(str1)\n",
    "print(fin)"
   ]
  },
  {
   "cell_type": "code",
   "execution_count": 19,
   "id": "23623c79",
   "metadata": {},
   "outputs": [
    {
     "ename": "ModuleNotFoundError",
     "evalue": "No module named 'ordered_set'",
     "output_type": "error",
     "traceback": [
      "\u001b[1;31m---------------------------------------------------------------------------\u001b[0m",
      "\u001b[1;31mModuleNotFoundError\u001b[0m                       Traceback (most recent call last)",
      "Cell \u001b[1;32mIn[19], line 1\u001b[0m\n\u001b[1;32m----> 1\u001b[0m \u001b[38;5;28;01mfrom\u001b[39;00m \u001b[38;5;21;01mordered_set\u001b[39;00m \u001b[38;5;28;01mimport\u001b[39;00m OrderedSet\n",
      "\u001b[1;31mModuleNotFoundError\u001b[0m: No module named 'ordered_set'"
     ]
    }
   ],
   "source": [
    "from ordered_set import OrderedSet"
   ]
  },
  {
   "cell_type": "code",
   "execution_count": 20,
   "id": "4b9691d4",
   "metadata": {},
   "outputs": [
    {
     "ename": "NameError",
     "evalue": "name 'ordered_set' is not defined",
     "output_type": "error",
     "traceback": [
      "\u001b[1;31m---------------------------------------------------------------------------\u001b[0m",
      "\u001b[1;31mNameError\u001b[0m                                 Traceback (most recent call last)",
      "Cell \u001b[1;32mIn[20], line 1\u001b[0m\n\u001b[1;32m----> 1\u001b[0m help(ordered_set)\n",
      "\u001b[1;31mNameError\u001b[0m: name 'ordered_set' is not defined"
     ]
    }
   ],
   "source": [
    "help(ordered_set)"
   ]
  },
  {
   "cell_type": "code",
   "execution_count": 26,
   "id": "8e4a068f",
   "metadata": {},
   "outputs": [
    {
     "name": "stdout",
     "output_type": "stream",
     "text": [
      "{'s', 'r', 'g'}\n"
     ]
    }
   ],
   "source": [
    "def common_str(str1, str2):\n",
    "    str11 = set(str1)\n",
    "    str22 = set(str2)\n",
    "    res = str11.intersection(str22)\n",
    "    return res\n",
    "\n",
    "\n",
    "\n",
    "str1 = 'sagar prajapati'\n",
    "str2 = 'geekcoders'\n",
    "print(common_str(str1,str2))"
   ]
  },
  {
   "cell_type": "code",
   "execution_count": 24,
   "id": "09751db6",
   "metadata": {},
   "outputs": [
    {
     "name": "stdout",
     "output_type": "stream",
     "text": [
      "{'s', 'r', 'g'}\n"
     ]
    }
   ],
   "source": [
    "str1 = 'sagar prajapati'\n",
    "str2 = 'geekcoders'\n",
    "\n",
    "str11 = set(str1)\n",
    "str22 = set(str2)\n",
    "\n",
    "res = str11.intersection(str22)\n",
    "print(res)"
   ]
  },
  {
   "cell_type": "code",
   "execution_count": 47,
   "id": "cdb76379",
   "metadata": {},
   "outputs": [
    {
     "name": "stdout",
     "output_type": "stream",
     "text": [
      "{'s': 2, 'a': 5, 'g': 2, 'r': 3, ' ': 1, 'p': 2, 'j': 1, 't': 1, 'i': 1, 'e': 3, 'k': 1, 'c': 1, 'o': 1, 'd': 1}\n",
      "s 2\n",
      "a 5\n",
      "g 2\n",
      "r 3\n",
      "p 2\n",
      "e 3\n"
     ]
    }
   ],
   "source": [
    "def common_str1(str1, str2):\n",
    "    d ={}\n",
    "    res =[]\n",
    "    for ch in str1:\n",
    "        if ch in d:\n",
    "            d[ch] += 1\n",
    "        else:\n",
    "            d[ch] = 1\n",
    "    for ch in str2:\n",
    "        if ch in d:\n",
    "            d[ch] += 1\n",
    "        else:\n",
    "            d[ch] = 1\n",
    "    return d\n",
    "  \n",
    "    \n",
    "  \n",
    "\n",
    "str1 = 'sagar prajapati'\n",
    "str2 = 'geekcoders'\n",
    "dict1 =common_str1(str1,str2)\n",
    "print(dict1)\n",
    "\n",
    "for k,v in dict1.items():\n",
    "    if v:\n",
    "        if v>1:\n",
    "            print(k,v)\n",
    "   \n",
    "   \n",
    "\n",
    "\n",
    " \n",
    "\n",
    "    \n",
    "        \n",
    "\n",
    "            \n",
    "    "
   ]
  },
  {
   "cell_type": "code",
   "execution_count": 48,
   "id": "fa965144",
   "metadata": {},
   "outputs": [
    {
     "name": "stdout",
     "output_type": "stream",
     "text": [
      "{'d': 1, 'a': 2, 't': 2, 'p': 1, 'r': 1, 'o': 1, 'j': 1, 'e': 1, 'c': 1}\n",
      "d: 1 time\n",
      "a: 2 times\n",
      "t: 2 times\n",
      "p: 1 time\n",
      "r: 1 time\n",
      "o: 1 time\n",
      "j: 1 time\n",
      "e: 1 time\n",
      "c: 1 time\n"
     ]
    }
   ],
   "source": [
    "# Define your function or logic to create dict1\n",
    "def common_str1(str1, str2):\n",
    "    # Sample logic to combine two strings and count occurrences\n",
    "    combined_str = str1 + str2\n",
    "    count_dict = {}\n",
    "    for char in combined_str:\n",
    "        if char in count_dict:\n",
    "            count_dict[char] += 1\n",
    "        else:\n",
    "            count_dict[char] = 1\n",
    "    return count_dict\n",
    "\n",
    "# Example strings\n",
    "str1 = \"data\"\n",
    "str2 = \"project\"\n",
    "\n",
    "# Create the dictionary\n",
    "dict1 = common_str1(str1, str2)\n",
    "print(dict1)\n",
    "\n",
    "# Iterate over the dictionary items\n",
    "for k, v in dict1.items():\n",
    "    if v:\n",
    "        if v > 1:\n",
    "            print(f\"{k}: {v} times\")\n",
    "        else:\n",
    "            print(f\"{k}: {v} time\")\n"
   ]
  },
  {
   "cell_type": "code",
   "execution_count": 51,
   "id": "41c3817a",
   "metadata": {},
   "outputs": [
    {
     "name": "stdout",
     "output_type": "stream",
     "text": [
      "['t']\n"
     ]
    }
   ],
   "source": [
    "str1 = \"data\"\n",
    "str2 = \"project\"\n",
    "\n",
    "res = []\n",
    "for ch in str1:\n",
    "    if ch in str2:\n",
    "        res.append(ch)\n",
    "\n",
    "print(res)       "
   ]
  },
  {
   "cell_type": "code",
   "execution_count": 52,
   "id": "b2c58d74",
   "metadata": {},
   "outputs": [
    {
     "name": "stdout",
     "output_type": "stream",
     "text": [
      "[1, 2, 3, 4, 2, 3, 5, 1, 7, 1, 2]\n"
     ]
    }
   ],
   "source": [
    "l = [[1,2],[3,4],[2,3],[5,1],[7,1,2]]\n",
    "\n",
    "def flatten(l):\n",
    "    res=[]\n",
    "    for item in l:\n",
    "        if isinstance(item, list):\n",
    "            res.extend(flatten(item))\n",
    "        else:\n",
    "            res.append(item)\n",
    "    return res\n",
    "\n",
    "out= flatten(l)\n",
    "print(out)"
   ]
  },
  {
   "cell_type": "code",
   "execution_count": 55,
   "id": "a5c25f9d",
   "metadata": {},
   "outputs": [
    {
     "name": "stdout",
     "output_type": "stream",
     "text": [
      "[1, 2, 3, 4, 2, 3, 5, 1, 7, 1, 2]\n"
     ]
    }
   ],
   "source": [
    "l = [[1,2],[3,4],[2,3],[5,1],[7,1,2]]\n",
    "\n",
    "def flatten1(l):\n",
    "    res=[]\n",
    "    for item in l:\n",
    "        if (type(item) is list):\n",
    "            res.extend(flatten(item))\n",
    "        else:\n",
    "            res.append(item)\n",
    "    return res\n",
    "\n",
    "out= flatten1(l)\n",
    "print(out)"
   ]
  },
  {
   "cell_type": "code",
   "execution_count": 58,
   "id": "b3284de9",
   "metadata": {},
   "outputs": [
    {
     "name": "stdout",
     "output_type": "stream",
     "text": [
      "[1, 2, 3, 4, 2, 3, 5, 1, 7, 1, 2]\n"
     ]
    }
   ],
   "source": [
    "\n",
    "def flatten2(l):\n",
    "    res=[]\n",
    "    for sub in l:\n",
    "        for item in sub:\n",
    "            res.append(item)\n",
    "    return res\n",
    "\n",
    "\n",
    "out= flatten2(l)\n",
    "print(out)       "
   ]
  },
  {
   "cell_type": "code",
   "execution_count": 59,
   "id": "1616e911",
   "metadata": {},
   "outputs": [
    {
     "name": "stdout",
     "output_type": "stream",
     "text": [
      "[1, 2, 3, 4, 2, 3, 5, 1, 7, 1, 2]\n"
     ]
    }
   ],
   "source": [
    "res = [item for sub in l for item in sub]\n",
    "print(res)"
   ]
  },
  {
   "cell_type": "code",
   "execution_count": 60,
   "id": "5218c24a",
   "metadata": {},
   "outputs": [
    {
     "name": "stdout",
     "output_type": "stream",
     "text": [
      "{1: 3, 2: 3, 3: 2, 4: 1, 5: 1, 7: 1}\n"
     ]
    }
   ],
   "source": [
    "def flatten3(l):\n",
    "    d={}\n",
    "    for sub in l:\n",
    "        for item in sub:\n",
    "            if (item in d):\n",
    "                d[item] += 1\n",
    "            else:\n",
    "                d[item] = 1\n",
    "    return d\n",
    "\n",
    "out = flatten3(l)\n",
    "print(out)"
   ]
  },
  {
   "cell_type": "code",
   "execution_count": 63,
   "id": "38f10f67",
   "metadata": {},
   "outputs": [
    {
     "data": {
      "text/plain": [
       "[1, 2, 3, 4, 2, 3, 5, 1, 7, 1, 2]"
      ]
     },
     "execution_count": 63,
     "metadata": {},
     "output_type": "execute_result"
    }
   ],
   "source": [
    "from itertools import chain\n",
    "\n",
    "res = list(chain.from_iterable(l))\n",
    "res"
   ]
  },
  {
   "cell_type": "code",
   "execution_count": 69,
   "id": "b0775390",
   "metadata": {},
   "outputs": [
    {
     "ename": "TypeError",
     "evalue": "list.append() takes exactly one argument (2 given)",
     "output_type": "error",
     "traceback": [
      "\u001b[1;31m---------------------------------------------------------------------------\u001b[0m",
      "\u001b[1;31mTypeError\u001b[0m                                 Traceback (most recent call last)",
      "Cell \u001b[1;32mIn[69], line 14\u001b[0m\n\u001b[0;32m     10\u001b[0m         res\u001b[38;5;241m.\u001b[39msort(key\u001b[38;5;241m=\u001b[39m \u001b[38;5;28;01mlambda\u001b[39;00m x: x[\u001b[38;5;241m0\u001b[39m])\n\u001b[0;32m     12\u001b[0m     \u001b[38;5;28;01mreturn\u001b[39;00m res\n\u001b[1;32m---> 14\u001b[0m out \u001b[38;5;241m=\u001b[39m sort(l)\n\u001b[0;32m     15\u001b[0m \u001b[38;5;28mprint\u001b[39m(out)\n",
      "Cell \u001b[1;32mIn[69], line 9\u001b[0m, in \u001b[0;36msort\u001b[1;34m(l)\u001b[0m\n\u001b[0;32m      7\u001b[0m         \u001b[38;5;28;01mif\u001b[39;00m (j\u001b[38;5;241m.\u001b[39misdigit()):\n\u001b[0;32m      8\u001b[0m             c \u001b[38;5;241m=\u001b[39m c\u001b[38;5;241m+\u001b[39m j\n\u001b[1;32m----> 9\u001b[0m     res\u001b[38;5;241m.\u001b[39mappend(\u001b[38;5;28mint\u001b[39m(c),i)\n\u001b[0;32m     10\u001b[0m     res\u001b[38;5;241m.\u001b[39msort(key\u001b[38;5;241m=\u001b[39m \u001b[38;5;28;01mlambda\u001b[39;00m x: x[\u001b[38;5;241m0\u001b[39m])\n\u001b[0;32m     12\u001b[0m \u001b[38;5;28;01mreturn\u001b[39;00m res\n",
      "\u001b[1;31mTypeError\u001b[0m: list.append() takes exactly one argument (2 given)"
     ]
    }
   ],
   "source": [
    "l=['Sam200', 'Monu100', 'Zaid30', 'Mukesh50', 'Nisha99']\n",
    "def sort(l):\n",
    "    c=\"\"\n",
    "    res=[]\n",
    "    for i in l:\n",
    "        for j in i: \n",
    "            if (j.isdigit()):\n",
    "                c = c+ j\n",
    "        res.append(int(c),i)\n",
    "        res.sort(key= lambda x: x[0])\n",
    "    \n",
    "    return res\n",
    "\n",
    "out = sort(l)\n",
    "print(out)\n",
    "            "
   ]
  },
  {
   "cell_type": "code",
   "execution_count": 70,
   "id": "c0b61e8d",
   "metadata": {},
   "outputs": [
    {
     "name": "stdout",
     "output_type": "stream",
     "text": [
      "6\n"
     ]
    }
   ],
   "source": [
    "def f_is_divisible(num):\n",
    "    try:\n",
    "        count= 0\n",
    "        for i in str(num):\n",
    "            if (num%int(i)==0):\n",
    "                count += 1\n",
    "        return count\n",
    "    except ZeroDivisionError:\n",
    "        return(len(str(num)))\n",
    "    \n",
    "res = f_is_divisible(120453)\n",
    "print(res)"
   ]
  },
  {
   "cell_type": "code",
   "execution_count": 71,
   "id": "b85598cf",
   "metadata": {},
   "outputs": [
    {
     "name": "stdout",
     "output_type": "stream",
     "text": [
      "2\n"
     ]
    }
   ],
   "source": [
    "l=[5,2,3,2,3,4,9,1,5]\n",
    "smallest = l[0]\n",
    "second_smallest = l[1]\n",
    "\n",
    "for i in range(len(l)-2):\n",
    "    if l[i]<smallest:\n",
    "        \n",
    "        smallest = l[i]\n",
    "        second_smallest = smallest\n",
    "    elif l[i]<second_smallest and l[i]!=smallest:\n",
    "        second_smallest=l[i]\n",
    "print(second_smallest)\n",
    "        \n",
    "        "
   ]
  },
  {
   "cell_type": "code",
   "execution_count": 81,
   "id": "018acbe2",
   "metadata": {},
   "outputs": [
    {
     "data": {
      "text/plain": [
       "1"
      ]
     },
     "execution_count": 81,
     "metadata": {},
     "output_type": "execute_result"
    }
   ],
   "source": [
    "\n",
    "\n"
   ]
  },
  {
   "cell_type": "code",
   "execution_count": 84,
   "id": "85f76018",
   "metadata": {},
   "outputs": [
    {
     "name": "stdout",
     "output_type": "stream",
     "text": [
      "{5: 4, 2: 1, 3: 2, 4: 3, 9: 8}\n"
     ]
    },
    {
     "data": {
      "text/plain": [
       "2"
      ]
     },
     "execution_count": 84,
     "metadata": {},
     "output_type": "execute_result"
    }
   ],
   "source": [
    "smallest = min(l)\n",
    "d={}\n",
    "for ele in l:\n",
    "    if(ele!=smallest):\n",
    "        d[ele] = ele - smallest\n",
    "print(d)\n",
    "min(d)\n",
    "        "
   ]
  },
  {
   "cell_type": "code",
   "execution_count": 88,
   "id": "0c21c8b1",
   "metadata": {},
   "outputs": [
    {
     "data": {
      "text/plain": [
       "18"
      ]
     },
     "execution_count": 88,
     "metadata": {},
     "output_type": "execute_result"
    }
   ],
   "source": [
    "str1 = \"Hello this is GeekCoders\"\n",
    "len(list(filter(lambda ch: ch.islower(), str1)))"
   ]
  },
  {
   "cell_type": "code",
   "execution_count": 91,
   "id": "33807c67",
   "metadata": {},
   "outputs": [
    {
     "data": {
      "text/plain": [
       "[30, 5, 7]"
      ]
     },
     "execution_count": 91,
     "metadata": {},
     "output_type": "execute_result"
    }
   ],
   "source": [
    "l=[\"30 student\", \"5 student\", \"7 student\"]\n",
    "\n",
    "[int(ele.split()[0]) for ele in l]"
   ]
  },
  {
   "cell_type": "code",
   "execution_count": 93,
   "id": "e4cf7305",
   "metadata": {},
   "outputs": [
    {
     "name": "stdout",
     "output_type": "stream",
     "text": [
      "[30, 5, 7]\n"
     ]
    }
   ],
   "source": [
    "res = list(map(lambda ele: int(ele.split()[0]), l))\n",
    "print(res)"
   ]
  },
  {
   "cell_type": "code",
   "execution_count": 95,
   "id": "fa5da7c0",
   "metadata": {},
   "outputs": [
    {
     "data": {
      "text/plain": [
       "'Hello GeekS'"
      ]
     },
     "execution_count": 95,
     "metadata": {},
     "output_type": "execute_result"
    }
   ],
   "source": [
    "str1= \"Hello Geeks\"\n",
    "\n",
    "str1[0].upper() + str1[1:-1] + str1[-1].upper()"
   ]
  },
  {
   "cell_type": "code",
   "execution_count": 99,
   "id": "e75ba49d",
   "metadata": {},
   "outputs": [
    {
     "name": "stdout",
     "output_type": "stream",
     "text": [
      "{1, 3}\n"
     ]
    }
   ],
   "source": [
    "l= [1,1,1,1,2,2,3,3,3,3,3,3,3,5]\n",
    "k=3\n",
    "\n",
    "def counter(l,k):\n",
    "    d={}\n",
    "    set1=set()\n",
    "    for ele in l: \n",
    "        d[ele] = d.get(ele, 0) + 1\n",
    "        if d[ele]>k:\n",
    "            set1.add(ele)\n",
    "    return set1\n",
    "\n",
    "res = counter(l,3)\n",
    "print(res)\n"
   ]
  },
  {
   "cell_type": "code",
   "execution_count": 106,
   "id": "4db95323",
   "metadata": {},
   "outputs": [
    {
     "name": "stdout",
     "output_type": "stream",
     "text": [
      "GeekCoders is This  \n"
     ]
    }
   ],
   "source": [
    "str1 = \"This is GeekCoders\"\n",
    "\n",
    "\n",
    "def rev1(str1):\n",
    "    out = \" \"\n",
    "    for word in str1.split():\n",
    "        out = word + ' ' +  out \n",
    "    return out\n",
    "print(rev1(str1))"
   ]
  },
  {
   "cell_type": "code",
   "execution_count": 111,
   "id": "9e020504",
   "metadata": {},
   "outputs": [
    {
     "name": "stdout",
     "output_type": "stream",
     "text": [
      "GeekCoders is This\n"
     ]
    }
   ],
   "source": [
    "str1 = \"This is GeekCoders\"\n",
    "\n",
    "\n",
    "def rev1(str1):\n",
    "    l= str1.split()\n",
    "    out = []\n",
    "    for i in range(len(l)-1,-1,-1):\n",
    "        out.append(l[i])\n",
    "    return \" \".join(out)\n",
    "print(rev1(str1))"
   ]
  },
  {
   "cell_type": "code",
   "execution_count": 115,
   "id": "19232bf5",
   "metadata": {},
   "outputs": [
    {
     "name": "stdout",
     "output_type": "stream",
     "text": [
      "['GeekCoders', 'is', 'This']\n"
     ]
    }
   ],
   "source": [
    "str1 = \"This is GeekCoders\"\n",
    "def rev3(str1):\n",
    "    l= str1.split()\n",
    "    out = []\n",
    "    while len(l)>0:\n",
    "        ele = l.pop()\n",
    "        out.append(ele)\n",
    "    return out\n",
    "\n",
    "print(rev3(str1))"
   ]
  },
  {
   "cell_type": "code",
   "execution_count": 6,
   "id": "add9f9fa",
   "metadata": {},
   "outputs": [
    {
     "name": "stdout",
     "output_type": "stream",
     "text": [
      "[2, 4, 6, 8, 1, 3, 5, 7, 9]\n"
     ]
    }
   ],
   "source": [
    "l=[1,2,3,4,5,6,7,8,9]\n",
    "even =[]\n",
    "odd = []\n",
    "for ele in l:\n",
    "    if (ele%2==0):\n",
    "        even.append(ele)\n",
    "    else:\n",
    "        odd.append(ele)\n",
    "res = even + odd\n",
    "print(res)"
   ]
  },
  {
   "cell_type": "code",
   "execution_count": 7,
   "id": "c16ea927",
   "metadata": {},
   "outputs": [
    {
     "data": {
      "text/plain": [
       "[2, 4, 6, 8, 1, 3, 5, 7, 9]"
      ]
     },
     "execution_count": 7,
     "metadata": {},
     "output_type": "execute_result"
    }
   ],
   "source": [
    "def even_odd(num):\n",
    "    if num%2==0:\n",
    "        return False\n",
    "    else:\n",
    "        return True \n",
    "    \n",
    "sorted(l, key=even_odd)\n",
    "    "
   ]
  },
  {
   "cell_type": "code",
   "execution_count": 8,
   "id": "fc617918",
   "metadata": {},
   "outputs": [
    {
     "name": "stdout",
     "output_type": "stream",
     "text": [
      "hello world"
     ]
    },
    {
     "data": {
      "text/plain": [
       "11"
      ]
     },
     "execution_count": 8,
     "metadata": {},
     "output_type": "execute_result"
    }
   ],
   "source": [
    "import sys\n",
    "sys.stdout.write(\"hello world\")"
   ]
  },
  {
   "cell_type": "code",
   "execution_count": 11,
   "id": "626ac501",
   "metadata": {},
   "outputs": [
    {
     "name": "stdout",
     "output_type": "stream",
     "text": [
      "siemanym\n"
     ]
    }
   ],
   "source": [
    "str1=\"my23name45is\"\n",
    "str2='si23eman45ym'\n",
    "out = \"\"\n",
    "for i in range(len(str1)-1,-1,-1):\n",
    "    if str1[i].isalpha():\n",
    "        out = out + str1[i]\n",
    "    else: \n",
    "        continue\n",
    "print(out)\n",
    "\n"
   ]
  },
  {
   "cell_type": "code",
   "execution_count": 14,
   "id": "3e178c2d",
   "metadata": {},
   "outputs": [
    {
     "name": "stdout",
     "output_type": "stream",
     "text": [
      "[[2, 1], [2, 1]]\n",
      "3\n"
     ]
    }
   ],
   "source": [
    "l=[[2,1] for j in range(2)]\n",
    "print(l)\n",
    "var=0\n",
    "for i in range(2):\n",
    "    var += l[i][i]\n",
    "print(var)"
   ]
  },
  {
   "cell_type": "code",
   "execution_count": 15,
   "id": "354f0538",
   "metadata": {},
   "outputs": [
    {
     "name": "stdout",
     "output_type": "stream",
     "text": [
      "False\n"
     ]
    }
   ],
   "source": [
    "list1=[]\n",
    "if list1:\n",
    "    print(True)\n",
    "else:\n",
    "    print(False)\n"
   ]
  },
  {
   "cell_type": "code",
   "execution_count": 16,
   "id": "0d71cb93",
   "metadata": {},
   "outputs": [
    {
     "ename": "TypeError",
     "evalue": "<lambda>() missing 1 required positional argument: 'y'",
     "output_type": "error",
     "traceback": [
      "\u001b[1;31m---------------------------------------------------------------------------\u001b[0m",
      "\u001b[1;31mTypeError\u001b[0m                                 Traceback (most recent call last)",
      "Cell \u001b[1;32mIn[16], line 3\u001b[0m\n\u001b[0;32m      1\u001b[0m str1\u001b[38;5;241m=\u001b[39m\u001b[38;5;124m\"\u001b[39m\u001b[38;5;124mhellohowareyou\u001b[39m\u001b[38;5;124m\"\u001b[39m\n\u001b[1;32m----> 3\u001b[0m res \u001b[38;5;241m=\u001b[39m \u001b[38;5;28mlist\u001b[39m(\u001b[38;5;28mmap\u001b[39m(\u001b[38;5;28;01mlambda\u001b[39;00m x,y: y\u001b[38;5;241m+\u001b[39mx, str1))\n\u001b[0;32m      4\u001b[0m \u001b[38;5;28mprint\u001b[39m(res)\n",
      "\u001b[1;31mTypeError\u001b[0m: <lambda>() missing 1 required positional argument: 'y'"
     ]
    }
   ],
   "source": [
    "str1=\"hellohowareyou\"\n",
    "\n",
    "res = list(map(lambda x,y: y+x, str1))\n",
    "print(res)"
   ]
  },
  {
   "cell_type": "code",
   "execution_count": 17,
   "id": "c759578e",
   "metadata": {},
   "outputs": [
    {
     "ename": "AssertionError",
     "evalue": "",
     "output_type": "error",
     "traceback": [
      "\u001b[1;31m---------------------------------------------------------------------------\u001b[0m",
      "\u001b[1;31mAssertionError\u001b[0m                            Traceback (most recent call last)",
      "Cell \u001b[1;32mIn[17], line 5\u001b[0m\n\u001b[0;32m      2\u001b[0m str2 \u001b[38;5;241m=\u001b[39m \u001b[38;5;124m\"\u001b[39m\u001b[38;5;124mabcdefghijklmno\u001b[39m\u001b[38;5;124m\"\u001b[39m  \u001b[38;5;66;03m# Another string of the same length\u001b[39;00m\n\u001b[0;32m      4\u001b[0m \u001b[38;5;66;03m# Ensure both strings are of the same length\u001b[39;00m\n\u001b[1;32m----> 5\u001b[0m \u001b[38;5;28;01massert\u001b[39;00m \u001b[38;5;28mlen\u001b[39m(str1) \u001b[38;5;241m==\u001b[39m \u001b[38;5;28mlen\u001b[39m(str2)\n\u001b[0;32m      7\u001b[0m res \u001b[38;5;241m=\u001b[39m \u001b[38;5;28mlist\u001b[39m(\u001b[38;5;28mmap\u001b[39m(\u001b[38;5;28;01mlambda\u001b[39;00m x, y: y \u001b[38;5;241m+\u001b[39m x, str1, str2))\n\u001b[0;32m      8\u001b[0m \u001b[38;5;28mprint\u001b[39m(res)\n",
      "\u001b[1;31mAssertionError\u001b[0m: "
     ]
    }
   ],
   "source": [
    "str1 = \"hellohowareyou\"\n",
    "str2 = \"abcdefghijklmno\"  # Another string of the same length\n",
    "\n",
    "# Ensure both strings are of the same length\n",
    "assert len(str1) == len(str2)\n",
    "\n",
    "res = list(map(lambda x, y: y + x, str1, str2))\n",
    "print(res)"
   ]
  },
  {
   "cell_type": "code",
   "execution_count": 21,
   "id": "c3a3740b",
   "metadata": {},
   "outputs": [
    {
     "name": "stdout",
     "output_type": "stream",
     "text": [
      "['ah', 'be', 'cl', 'dl', 'eo']\n"
     ]
    }
   ],
   "source": [
    "str1 = \"hello\"\n",
    "str2 = \"abcde\"  # Another string of the same length\n",
    "\n",
    "# Ensure both strings are of the same length\n",
    "assert len(str1) == len(str2)\n",
    "\n",
    "res = list(map(lambda x, y: y + x, str1, str2))\n",
    "print(res)\n"
   ]
  },
  {
   "cell_type": "code",
   "execution_count": 26,
   "id": "f662170e",
   "metadata": {},
   "outputs": [
    {
     "name": "stdout",
     "output_type": "stream",
     "text": [
      "uoyerawoholleh\n"
     ]
    }
   ],
   "source": [
    "from functools import reduce\n",
    "str1 = \"hellohowareyou\"\n",
    "str2 = \"abcdefghijklmno\"  # Make str2 the same length as str1\n",
    "\n",
    "\n",
    "\n",
    "res = list(reduce(lambda x, y: y + x, str1))\n",
    "print(\"\".join(res))\n"
   ]
  },
  {
   "cell_type": "code",
   "execution_count": 9,
   "id": "f0c3ddf7",
   "metadata": {},
   "outputs": [
    {
     "name": "stdout",
     "output_type": "stream",
     "text": [
      "uniq is  geekcoders\n",
      "dup is  ['geekcoders']\n",
      "uniq is  geekcodershello\n"
     ]
    }
   ],
   "source": [
    "str1 = \"geekcoders geekcoders hello\"\n",
    "uniq=[]\n",
    "dup =[]\n",
    "for word in str1.split():\n",
    "    if word not in uniq:\n",
    "        uniq.append(word)\n",
    "        res = \"\".join(uniq)\n",
    "        print(\"uniq is \", res)\n",
    "    else:\n",
    "        dup.append(word)\n",
    "        print(\"dup is \",dup)"
   ]
  },
  {
   "cell_type": "code",
   "execution_count": 5,
   "id": "f4a8d9ed",
   "metadata": {},
   "outputs": [
    {
     "name": "stdout",
     "output_type": "stream",
     "text": [
      "{'geekcoders': 2, 'hello': 1}\n"
     ]
    }
   ],
   "source": [
    "d={}\n",
    "for word in str1.split():\n",
    "    if word in d:\n",
    "        d[word] += 1\n",
    "    else:\n",
    "        d[word] = 1\n",
    "print(d)"
   ]
  },
  {
   "cell_type": "code",
   "execution_count": 8,
   "id": "a8e22ef7",
   "metadata": {},
   "outputs": [
    {
     "name": "stdout",
     "output_type": "stream",
     "text": [
      "hello\n"
     ]
    }
   ],
   "source": [
    "for k,v in d.items():\n",
    "    if v==1:\n",
    "        print(k)"
   ]
  },
  {
   "cell_type": "code",
   "execution_count": 11,
   "id": "a4fa0fa4",
   "metadata": {},
   "outputs": [
    {
     "name": "stdout",
     "output_type": "stream",
     "text": [
      "[1, 2, 3, 4, 5]\n",
      "{1: None, 2: None, 3: None, 4: None, 5: None}\n"
     ]
    }
   ],
   "source": [
    "# Original list\n",
    "original_list = [1, 2, 2, 3, 4, 4, 5]\n",
    "d = dict.fromkeys(original_list)\n",
    "# Using dict.fromkeys\n",
    "unique_list = list(dict.fromkeys(original_list))\n",
    "\n",
    "print(unique_list)\n",
    "print(d)"
   ]
  },
  {
   "cell_type": "code",
   "execution_count": 19,
   "id": "ebff1918",
   "metadata": {},
   "outputs": [
    {
     "name": "stdout",
     "output_type": "stream",
     "text": [
      "8 9\n"
     ]
    }
   ],
   "source": [
    "l=[1,2,3,4,5,6,7,8,9]\n",
    "max = 0\n",
    "for i in range(len(l)-1):\n",
    "    for j in range(i+1, len(l)):\n",
    "        if l[i]*l[j]>max:\n",
    "            max = l[i]*l[j]\n",
    "print(l[i], l[j])\n",
    "        \n",
    "    \n",
    "            \n",
    "            \n",
    "   "
   ]
  },
  {
   "cell_type": "code",
   "execution_count": 22,
   "id": "7e966a2f",
   "metadata": {},
   "outputs": [
    {
     "data": {
      "text/plain": [
       "362880"
      ]
     },
     "execution_count": 22,
     "metadata": {},
     "output_type": "execute_result"
    }
   ],
   "source": [
    "from functools import reduce\n",
    "l=[1,2,3,4,5,6,7,8,9]\n",
    "reduce(lambda x, y: x*y, l)\n"
   ]
  },
  {
   "cell_type": "code",
   "execution_count": 24,
   "id": "f94d88ce",
   "metadata": {},
   "outputs": [
    {
     "name": "stdout",
     "output_type": "stream",
     "text": [
      "72\n"
     ]
    }
   ],
   "source": [
    "def max_product(l):\n",
    "    l.sort()\n",
    "    return l[-1]*l[-2]\n",
    "l=[1,2,3,4,5,6,7,8,9]\n",
    "res = max_product(l)\n",
    "print(res)"
   ]
  },
  {
   "cell_type": "code",
   "execution_count": 29,
   "id": "8de516df",
   "metadata": {},
   "outputs": [
    {
     "data": {
      "text/plain": [
       "[1, 4, 9, 16, 25, 36, 49, 64, 81]"
      ]
     },
     "execution_count": 29,
     "metadata": {},
     "output_type": "execute_result"
    }
   ],
   "source": [
    "res = [i*j for i, j in zip(l,l)]\n",
    "res"
   ]
  },
  {
   "cell_type": "code",
   "execution_count": 5,
   "id": "7f26cc55",
   "metadata": {},
   "outputs": [
    {
     "name": "stdout",
     "output_type": "stream",
     "text": [
      "['N', 'N']\n"
     ]
    }
   ],
   "source": [
    "s1='NAINA'\n",
    "s2='REENE'\n",
    "res=[]\n",
    "for ele in s1:\n",
    "    if ele in s2:\n",
    "        res.append(ele)\n",
    "print(res)"
   ]
  },
  {
   "cell_type": "code",
   "execution_count": 4,
   "id": "a8467ab7",
   "metadata": {},
   "outputs": [
    {
     "name": "stdout",
     "output_type": "stream",
     "text": [
      "['N', 'N']\n"
     ]
    }
   ],
   "source": [
    "s1 = 'NAINA'\n",
    "s2 = 'REENE'\n",
    "\n",
    "res = [ele for ele in s1 if ele in s2]\n",
    "print(res)\n"
   ]
  },
  {
   "cell_type": "code",
   "execution_count": 8,
   "id": "f01c95d9",
   "metadata": {},
   "outputs": [
    {
     "name": "stdout",
     "output_type": "stream",
     "text": [
      "{'N'}\n"
     ]
    }
   ],
   "source": [
    "s1 = 'NAINA'\n",
    "s2 = 'REENE'\n",
    "\n",
    "set1 = set(s1)\n",
    "set2 = set (s2)\n",
    "res = set1 & set2\n",
    "print(res)\n",
    "\n",
    "frequency[char] = frequency.get(char, 0) + 1"
   ]
  },
  {
   "cell_type": "code",
   "execution_count": 9,
   "id": "4c8a0737",
   "metadata": {},
   "outputs": [
    {
     "name": "stdout",
     "output_type": "stream",
     "text": [
      "{'Sheena': 1, 'loves': 2, 'eating': 2, 'apple': 2, 'and': 2, 'mango.': 2, 'Her': 1, 'sister': 1, 'also': 1}\n"
     ]
    }
   ],
   "source": [
    "sent= 'Sheena loves eating apple and mango. Her sister also loves eating apple and mango.'\n",
    "\n",
    "d={}\n",
    "for ch in sent.split():\n",
    "    d[ch] = d.get(ch,0)+1\n",
    "print(d)"
   ]
  },
  {
   "cell_type": "code",
   "execution_count": 10,
   "id": "6663f869",
   "metadata": {},
   "outputs": [
    {
     "name": "stdout",
     "output_type": "stream",
     "text": [
      "{'Sheena': 1, 'loves': 2, 'eating': 2, 'apple': 2, 'and': 2, 'mango.': 2, 'Her': 1, 'sister': 1, 'also': 1}\n"
     ]
    }
   ],
   "source": [
    "def count(sent):\n",
    "    words = sent.split()\n",
    "    d={}\n",
    "    for word in words:\n",
    "        if word not in d.keys():\n",
    "            d[word] = 0\n",
    "            \n",
    "        d[word] = d[word] + 1\n",
    "    return d\n",
    "\n",
    "print(count(sent))\n",
    "        "
   ]
  },
  {
   "cell_type": "code",
   "execution_count": 11,
   "id": "3c7015bc",
   "metadata": {},
   "outputs": [
    {
     "name": "stdout",
     "output_type": "stream",
     "text": [
      "{'Sheena': 1, 'loves': 2, 'eating': 2, 'apple': 2, 'and': 2, 'mango.': 2, 'Her': 1, 'sister': 1, 'also': 1}\n"
     ]
    }
   ],
   "source": [
    "def count_freq(sent):\n",
    "    words = sent.split()\n",
    "    d={}\n",
    "    for word in words:\n",
    "        if word in d:\n",
    "            d[word] += 1\n",
    "        else:\n",
    "            d[word] = 1\n",
    "    return d\n",
    "print(count_freq(sent))\n"
   ]
  },
  {
   "cell_type": "code",
   "execution_count": 16,
   "id": "3527e1ab",
   "metadata": {},
   "outputs": [
    {
     "name": "stdout",
     "output_type": "stream",
     "text": [
      "{1: 'one', 2: 'two', 3: 'three'}\n"
     ]
    }
   ],
   "source": [
    "l1=[1,2,3]\n",
    "l2=['one', 'two', 'three']\n",
    "\n",
    "res = {k:v for k,v in zip(l1,l2)}\n",
    "print(res)\n",
    "            \n",
    "            "
   ]
  },
  {
   "cell_type": "code",
   "execution_count": 17,
   "id": "766fba83",
   "metadata": {},
   "outputs": [
    {
     "name": "stdout",
     "output_type": "stream",
     "text": [
      "{1: 'one', 2: 'two', 3: 'three'}\n"
     ]
    }
   ],
   "source": [
    "res1 = dict(zip(l1,l2))\n",
    "print(res1)"
   ]
  },
  {
   "cell_type": "code",
   "execution_count": 21,
   "id": "bd5da394",
   "metadata": {},
   "outputs": [
    {
     "ename": "SyntaxError",
     "evalue": "invalid syntax (1070404162.py, line 4)",
     "output_type": "error",
     "traceback": [
      "\u001b[1;36m  Cell \u001b[1;32mIn[21], line 4\u001b[1;36m\u001b[0m\n\u001b[1;33m    res = [i+j for i in range(len(l)) for j in range(i+1, len(l)) if i+j = 17]\u001b[0m\n\u001b[1;37m                                                                         ^\u001b[0m\n\u001b[1;31mSyntaxError\u001b[0m\u001b[1;31m:\u001b[0m invalid syntax\n"
     ]
    }
   ],
   "source": [
    "l=[5,7,4,3,9,8,19,21]\n",
    "sum = 17\n",
    "\n",
    "res = [i+j for i in range(len(l)) for j in range(i+1, len(l)) if i+j = 17]\n",
    "print(res)"
   ]
  },
  {
   "cell_type": "code",
   "execution_count": 22,
   "id": "1830356a",
   "metadata": {},
   "outputs": [
    {
     "name": "stdout",
     "output_type": "stream",
     "text": [
      "[(9, 8)]\n"
     ]
    }
   ],
   "source": [
    "l = [5, 7, 4, 3, 9, 8, 19, 21]\n",
    "target_sum = 17\n",
    "\n",
    "res = [(l[i], l[j]) for i in range(len(l)) for j in range(i + 1, len(l)) if l[i] + l[j] == target_sum]\n",
    "print(res)\n"
   ]
  },
  {
   "cell_type": "code",
   "execution_count": 26,
   "id": "00758768",
   "metadata": {},
   "outputs": [
    {
     "name": "stdout",
     "output_type": "stream",
     "text": [
      "[9, 8]\n"
     ]
    }
   ],
   "source": [
    "l = [5, 7, 4, 3, 9, 8, 19, 21]\n",
    "target = 17\n",
    "res =[]\n",
    "for i in range(len(l)):\n",
    "    for j in range(i+1, len(l)):\n",
    "        if l[i]+l[j]==target:\n",
    "            res.append(l[i])\n",
    "            res.append(l[j])\n",
    "print(res)"
   ]
  },
  {
   "cell_type": "code",
   "execution_count": 31,
   "id": "c89326cf",
   "metadata": {},
   "outputs": [
    {
     "name": "stdout",
     "output_type": "stream",
     "text": [
      "values of pair 8 & 9\n",
      "None\n"
     ]
    }
   ],
   "source": [
    "\n",
    "\n",
    "def two_sum(arr,target):\n",
    "    arr.sort()\n",
    "    left=0\n",
    "    right=len(arr)-1\n",
    "    while(left<right):\n",
    "        if (arr[left] + arr[right]>target):\n",
    "            right = right -1\n",
    "        elif (arr[left] + arr[right]<target):\n",
    "            left = left + 1\n",
    "        elif (arr[left] + arr[right]==target):\n",
    "            print('values of pair', arr[left], \"&\", arr[right])\n",
    "            right = right-1\n",
    "            left = left+1\n",
    "            \n",
    "\n",
    "\n",
    "arr=[5, 7, 4, 3, 9, 8, 19, 21]\n",
    "target=17\n",
    "print(two_sum(arr,target))"
   ]
  },
  {
   "cell_type": "code",
   "execution_count": 33,
   "id": "236b11ee",
   "metadata": {},
   "outputs": [
    {
     "name": "stdout",
     "output_type": "stream",
     "text": [
      "[1, 2, 3, 4, 5, 6, 7]\n"
     ]
    }
   ],
   "source": [
    "def remove_dup(arr):\n",
    "    n = len(arr)\n",
    "    if (n==0 or n==1):\n",
    "        return arr\n",
    "    temp=[0]*n\n",
    "    pivot = 0\n",
    "    for i in range(0, n-1):\n",
    "        if (arr[i]!=arr[i+1]):\n",
    "            temp[pivot]=arr[i]\n",
    "            pivot = pivot + 1\n",
    "            \n",
    "    temp[pivot] = arr[n-1]\n",
    "    return temp[0:pivot+1]\n",
    "\n",
    "arr=[1,1,1,1,2,3,4,5,5,6,7,7,7]\n",
    "print(remove_dup(arr))"
   ]
  },
  {
   "cell_type": "code",
   "execution_count": 43,
   "id": "a875f57e",
   "metadata": {},
   "outputs": [
    {
     "name": "stdout",
     "output_type": "stream",
     "text": [
      "{'act': [1, 2, 4], 'dgo': [3, 5]}\n"
     ]
    }
   ],
   "source": [
    "l=['cat', 'tac', 'dog', 'act', 'god']\n",
    "\n",
    "def anagram(l):\n",
    "    if(l==None):\n",
    "        return\n",
    "    else:\n",
    "        dict={}\n",
    "        for i in range(len(l)):\n",
    "            word = ''.join(sorted(l[i]))\n",
    "            if(word not in dict):\n",
    "                dict[word] = [i+1]\n",
    "            else:\n",
    "                dict[word].append(i+1)\n",
    "        return dict\n",
    "\n",
    "print(anagram(l))\n",
    "                \n",
    "            "
   ]
  },
  {
   "cell_type": "code",
   "execution_count": 38,
   "id": "874a2e1e",
   "metadata": {},
   "outputs": [
    {
     "data": {
      "text/plain": [
       "'dgo'"
      ]
     },
     "execution_count": 38,
     "metadata": {},
     "output_type": "execute_result"
    }
   ],
   "source": [
    "l=['cat', 'tac', 'dog', 'act', 'god']\n",
    "for i in range(len(l)):\n",
    "    word = ''.join(sorted(l[i]))\n",
    "\n",
    "word\n",
    "        \n"
   ]
  },
  {
   "cell_type": "code",
   "execution_count": 40,
   "id": "62e7bf6d",
   "metadata": {},
   "outputs": [
    {
     "data": {
      "text/plain": [
       "['a', 'c', 't']"
      ]
     },
     "execution_count": 40,
     "metadata": {},
     "output_type": "execute_result"
    }
   ],
   "source": [
    "sorted(\"act\")"
   ]
  },
  {
   "cell_type": "code",
   "execution_count": 46,
   "id": "3d546297",
   "metadata": {},
   "outputs": [
    {
     "name": "stdout",
     "output_type": "stream",
     "text": [
      "[1, 2, 3, 4, 5]\n"
     ]
    }
   ],
   "source": [
    "arr1=[1,4,2,5,2,3,4,1,4,5,2,3]\n",
    "\n",
    "arr2= list(set(arr1))\n",
    "print(arr2)"
   ]
  },
  {
   "cell_type": "code",
   "execution_count": 47,
   "id": "611cea7b",
   "metadata": {},
   "outputs": [
    {
     "name": "stdout",
     "output_type": "stream",
     "text": [
      "[1, 4, 2, 5, 3]\n"
     ]
    }
   ],
   "source": [
    "arr3=[]\n",
    "for ele in arr1:\n",
    "    if ele not in arr3:\n",
    "        arr3.append(ele)\n",
    "\n",
    "print(arr3)"
   ]
  },
  {
   "cell_type": "code",
   "execution_count": 49,
   "id": "9cc471e4",
   "metadata": {},
   "outputs": [
    {
     "name": "stdout",
     "output_type": "stream",
     "text": [
      "{1, 2, 3, 4, 5}\n"
     ]
    }
   ],
   "source": [
    "rem = lambda arr: set(arr)\n",
    "print(rem(arr))"
   ]
  },
  {
   "cell_type": "code",
   "execution_count": 50,
   "id": "c5eb8e00",
   "metadata": {},
   "outputs": [
    {
     "name": "stdout",
     "output_type": "stream",
     "text": [
      "{'car': {'toyota', 'honda', 'ford'}, 'brand': {'ranz', 'mustang'}}\n"
     ]
    }
   ],
   "source": [
    "dict1={\n",
    "    'car': [\"ford\", \"toyota\", \"ford\", \"honda\", \"toyota\"],\n",
    "    'brand': [\"mustang\", \"ranz\",\"mustang\", \"ranz\"]\n",
    "}\n",
    "\n",
    "\n",
    "dict2={}\n",
    "for k,v in dict1.items():\n",
    "    dict2[k] = set(v)\n",
    "print(dict2)\n"
   ]
  },
  {
   "cell_type": "code",
   "execution_count": 51,
   "id": "20347e29",
   "metadata": {},
   "outputs": [
    {
     "name": "stdout",
     "output_type": "stream",
     "text": [
      "{3, 4, 7}\n"
     ]
    }
   ],
   "source": [
    "\n",
    "set1={1,2,3,4,5}\n",
    "set2={2,1,5,7}\n",
    "\n",
    "remove_dup= set1.symmetric_difference(set2)\n",
    "print(remove_dup)"
   ]
  },
  {
   "cell_type": "code",
   "execution_count": 52,
   "id": "f2ef0a92",
   "metadata": {},
   "outputs": [
    {
     "name": "stdout",
     "output_type": "stream",
     "text": [
      "98\n"
     ]
    }
   ],
   "source": [
    "#largetst element in array\n",
    "\n",
    "arr = [63,54,98,34,89,42,18]\n",
    "def max1(arr):\n",
    "    max = arr[0]\n",
    "    for i in range(len(arr)):\n",
    "        if arr[i]>max:\n",
    "            max = arr[i]\n",
    "    return max\n",
    "\n",
    "print(max1(arr))"
   ]
  },
  {
   "cell_type": "code",
   "execution_count": 54,
   "id": "78cbb6b5",
   "metadata": {},
   "outputs": [
    {
     "name": "stdout",
     "output_type": "stream",
     "text": [
      "NETSET\n",
      "ETSETN\n",
      "TSETNE\n",
      "SETNET\n",
      "ETNETS\n",
      "TNETSE\n",
      "None\n"
     ]
    }
   ],
   "source": [
    "#left rotations in string\n",
    "\n",
    "def left_rotate(str1):\n",
    "    size = len(str1)\n",
    "    temp = str1 + str1\n",
    "    \n",
    "    for i in range(size):\n",
    "        for j in range(size):\n",
    "            print(temp[i+j], end=\"\")\n",
    "        print()\n",
    "\n",
    "str1 = \"NETSET\"      \n",
    "print(left_rotate(str1))"
   ]
  },
  {
   "cell_type": "code",
   "execution_count": 58,
   "id": "ace55209",
   "metadata": {},
   "outputs": [
    {
     "name": "stdout",
     "output_type": "stream",
     "text": [
      "SOTESTEN SI TNELLECXE \n"
     ]
    }
   ],
   "source": [
    "def reverse(str1):\n",
    "    return str1[::-1]\n",
    "\n",
    "\n",
    "str1=\"NETSETOS IS EXCELLENT\"\n",
    "\n",
    "def rev(str1):\n",
    "    size = len(str1)\n",
    "    if (size == 1):\n",
    "        return str1\n",
    "    str2= str1.split(\" \")\n",
    "    rev_all =\"\"\n",
    "    size2=len(str2)\n",
    "    for i in range(size2):\n",
    "        rev = reverse(str2[i])\n",
    "        rev_all = rev_all + rev + \" \"\n",
    "    return rev_all\n",
    "\n",
    "print(rev(str1))"
   ]
  },
  {
   "cell_type": "code",
   "execution_count": 59,
   "id": "dd226079",
   "metadata": {},
   "outputs": [
    {
     "data": {
      "text/plain": [
       "{'N': 2, 'E': 3, 'T': 3, 'S': 2, 'O': 1}"
      ]
     },
     "execution_count": 59,
     "metadata": {},
     "output_type": "execute_result"
    }
   ],
   "source": [
    "str1 = \"NETSETOSNET\"\n",
    "d={}\n",
    "for ch in str1:\n",
    "    d[ch] = d.get(ch, 0)+1\n",
    "d"
   ]
  },
  {
   "cell_type": "code",
   "execution_count": 63,
   "id": "3b4bccc3",
   "metadata": {},
   "outputs": [
    {
     "name": "stdout",
     "output_type": "stream",
     "text": [
      "{'N': 2, 'E': 3, 'T': 3, 'S': 2, 'O': 1}\n"
     ]
    }
   ],
   "source": [
    "d1={}\n",
    "for ch in str1:\n",
    "    if ch not in d1:\n",
    "        d1[ch] = 1\n",
    "    else:\n",
    "        d1[ch]= d1[ch] + 1\n",
    "print(d1)"
   ]
  },
  {
   "cell_type": "code",
   "execution_count": 64,
   "id": "9ed6669a",
   "metadata": {},
   "outputs": [
    {
     "name": "stdout",
     "output_type": "stream",
     "text": [
      "{'N': 2, 'E': 3, 'T': 3, 'S': 2, 'O': 1}\n",
      "O 6\n"
     ]
    }
   ],
   "source": [
    "dict ={}\n",
    "size = len(str1)\n",
    "for i in range(size):\n",
    "    key = str1[i]\n",
    "    if key not in dict:\n",
    "        dict[key]=1\n",
    "    else:\n",
    "        dict[key] = dict[key]+ 1\n",
    "print(dict)\n",
    "\n",
    "counter= 0\n",
    "for i in range(len(str1)):\n",
    "    if (dict[str1[i]]==1):\n",
    "        print(str1[i], counter)\n",
    "    counter = counter + 1\n",
    "    "
   ]
  },
  {
   "cell_type": "code",
   "execution_count": 65,
   "id": "f849a887",
   "metadata": {},
   "outputs": [
    {
     "ename": "NameError",
     "evalue": "name 'a' is not defined",
     "output_type": "error",
     "traceback": [
      "\u001b[1;31m---------------------------------------------------------------------------\u001b[0m",
      "\u001b[1;31mNameError\u001b[0m                                 Traceback (most recent call last)",
      "Cell \u001b[1;32mIn[65], line 1\u001b[0m\n\u001b[1;32m----> 1\u001b[0m \u001b[38;5;28mord\u001b[39m(a)\n",
      "\u001b[1;31mNameError\u001b[0m: name 'a' is not defined"
     ]
    }
   ],
   "source": [
    "ord(a)"
   ]
  },
  {
   "cell_type": "code",
   "execution_count": 66,
   "id": "372767f7",
   "metadata": {},
   "outputs": [
    {
     "data": {
      "text/plain": [
       "97"
      ]
     },
     "execution_count": 66,
     "metadata": {},
     "output_type": "execute_result"
    }
   ],
   "source": [
    "ord('a')"
   ]
  },
  {
   "cell_type": "code",
   "execution_count": 67,
   "id": "1aa45247",
   "metadata": {},
   "outputs": [
    {
     "data": {
      "text/plain": [
       "65"
      ]
     },
     "execution_count": 67,
     "metadata": {},
     "output_type": "execute_result"
    }
   ],
   "source": [
    "ord('A')"
   ]
  },
  {
   "cell_type": "code",
   "execution_count": 68,
   "id": "5c441c9c",
   "metadata": {},
   "outputs": [
    {
     "data": {
      "text/plain": [
       "55"
      ]
     },
     "execution_count": 68,
     "metadata": {},
     "output_type": "execute_result"
    }
   ],
   "source": [
    "ord('7')"
   ]
  },
  {
   "cell_type": "code",
   "execution_count": null,
   "id": "1487da5f",
   "metadata": {},
   "outputs": [],
   "source": [
    "#ROMAN t"
   ]
  }
 ],
 "metadata": {
  "kernelspec": {
   "display_name": "Python 3 (ipykernel)",
   "language": "python",
   "name": "python3"
  },
  "language_info": {
   "codemirror_mode": {
    "name": "ipython",
    "version": 3
   },
   "file_extension": ".py",
   "mimetype": "text/x-python",
   "name": "python",
   "nbconvert_exporter": "python",
   "pygments_lexer": "ipython3",
   "version": "3.11.5"
  }
 },
 "nbformat": 4,
 "nbformat_minor": 5
}
